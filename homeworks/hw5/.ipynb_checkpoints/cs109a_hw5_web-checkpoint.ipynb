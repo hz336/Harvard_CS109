{
 "cells": [
  {
   "cell_type": "markdown",
   "metadata": {},
   "source": [
    "# H5"
   ]
  },
  {
   "cell_type": "code",
   "execution_count": 1,
   "metadata": {},
   "outputs": [
    {
     "data": {
      "text/html": [
       "<style>\n",
       "blockquote { background: #AEDE94; }\n",
       "h1 { \n",
       "    padding-top: 25px;\n",
       "    padding-bottom: 25px;\n",
       "    text-align: left; \n",
       "    padding-left: 10px;\n",
       "    background-color: #DDDDDD; \n",
       "    color: black;\n",
       "}\n",
       "h2 { \n",
       "    padding-top: 10px;\n",
       "    padding-bottom: 10px;\n",
       "    text-align: left; \n",
       "    padding-left: 5px;\n",
       "    background-color: #EEEEEE; \n",
       "    color: black;\n",
       "}\n",
       "\n",
       "div.exercise {\n",
       "\tbackground-color: #ffcccc;\n",
       "\tborder-color: #E9967A; \t\n",
       "\tborder-left: 5px solid #800080; \n",
       "\tpadding: 0.5em;\n",
       "}\n",
       "\n",
       "span.sub-q {\n",
       "\tfont-weight: bold;\n",
       "}\n",
       "div.theme {\n",
       "\tbackground-color: #DDDDDD;\n",
       "\tborder-color: #E9967A; \t\n",
       "\tborder-left: 5px solid #800080; \n",
       "\tpadding: 0.5em;\n",
       "\tfont-size: 18pt;\n",
       "}\n",
       "div.gc { \n",
       "\tbackground-color: #AEDE94;\n",
       "\tborder-color: #E9967A; \t \n",
       "\tborder-left: 5px solid #800080; \n",
       "\tpadding: 0.5em;\n",
       "\tfont-size: 12pt;\n",
       "}\n",
       "p.q1 { \n",
       "    padding-top: 5px;\n",
       "    padding-bottom: 5px;\n",
       "    text-align: left; \n",
       "    padding-left: 5px;\n",
       "    background-color: #EEEEEE; \n",
       "    color: black;\n",
       "}\n",
       "header {\n",
       "   padding-top: 35px;\n",
       "    padding-bottom: 35px;\n",
       "    text-align: left; \n",
       "    padding-left: 10px;\n",
       "    background-color: #DDDDDD; \n",
       "    color: black;\n",
       "}\n",
       "</style>\n",
       "\n"
      ],
      "text/plain": [
       "<IPython.core.display.HTML object>"
      ]
     },
     "execution_count": 1,
     "metadata": {},
     "output_type": "execute_result"
    }
   ],
   "source": [
    "import requests\n",
    "from IPython.core.display import HTML\n",
    "styles = requests.get(\"https://raw.githubusercontent.com/Harvard-IACS/2018-CS109A/master/content/styles/cs109.css\").text\n",
    "HTML(styles)"
   ]
  },
  {
   "cell_type": "code",
   "execution_count": 6,
   "metadata": {},
   "outputs": [],
   "source": [
    "import warnings\n",
    "warnings.filterwarnings('ignore')\n",
    "\n",
    "import numpy as np\n",
    "import pandas as pd\n",
    "import statsmodels.api as sm\n",
    "from statsmodels.api import OLS\n",
    "from sklearn.decomposition import PCA\n",
    "from sklearn.linear_model import LogisticRegression\n",
    "from sklearn.linear_model import LogisticRegressionCV\n",
    "from sklearn.discriminant_analysis import LinearDiscriminantAnalysis\n",
    "from sklearn.discriminant_analysis import QuadraticDiscriminantAnalysis\n",
    "from sklearn.preprocessing import PolynomialFeatures\n",
    "from sklearn.neighbors import KNeighborsClassifier\n",
    "from sklearn.model_selection import cross_val_score\n",
    "from sklearn.metrics import accuracy_score\n",
    "from sklearn.model_selection import KFold\n",
    "from sklearn.preprocessing import MinMaxScaler\n",
    "import math\n",
    "from scipy.special import gamma\n",
    "import matplotlib\n",
    "import matplotlib.pyplot as plt\n",
    "%matplotlib inline\n",
    "import seaborn as sns\n",
    "sns.set()\n",
    "from IPython.display import display\n",
    "\n",
    "pd.set_option('display.width', 500)\n",
    "pd.set_option('display.max_columns', 100)\n",
    "pd.set_option('display.notebook_repr_html', True)"
   ]
  },
  {
   "cell_type": "markdown",
   "metadata": {},
   "source": [
    "## Cancer Classification from Gene Expressions \n",
    "\n",
    "In this problem, we will build a classification model to distinguish between two related classes of cancer, acute lymphoblastic leukemia (ALL) and acute myeloid leukemia (AML), using gene expression measurements. The data set is provided in the file `data/dataset_hw5_1.csv`. Each row in this file corresponds to a tumor tissue sample from a patient with one of the two forms of Leukemia. The first column contains the cancer type, with 0 indicating the ALL class and 1 indicating the AML class. Columns 2-7130 contain expression levels of 7129 genes recorded from each tissue sample. \n",
    "\n",
    "In the following questions, we will use linear and logistic regression to build classification models for this data set. We will also use Principal Components Analysis (PCA) to reduce its dimensions. First step is to split the observations into an approximate 50-50 train-test split. "
   ]
  },
  {
   "cell_type": "code",
   "execution_count": 7,
   "metadata": {},
   "outputs": [],
   "source": [
    "np.random.seed(9002)\n",
    "df = pd.read_csv('data/dataset_hw5_1.csv')\n",
    "msk = np.random.rand(len(df)) < 0.5\n",
    "data_train = df[msk]\n",
    "data_test = df[~msk]"
   ]
  },
  {
   "cell_type": "markdown",
   "metadata": {},
   "source": [
    "**1.1:** Take a peek at your training set: you should notice the severe differences in the measurements from one gene to the next (some are negative, some hover around zero, and some are well into the thousands).  To account for these differences in scale and variability, normalize each predictor to vary between 0 and 1.\n"
   ]
  },
  {
   "cell_type": "code",
   "execution_count": 9,
   "metadata": {},
   "outputs": [
    {
     "data": {
      "text/html": [
       "<div>\n",
       "<style scoped>\n",
       "    .dataframe tbody tr th:only-of-type {\n",
       "        vertical-align: middle;\n",
       "    }\n",
       "\n",
       "    .dataframe tbody tr th {\n",
       "        vertical-align: top;\n",
       "    }\n",
       "\n",
       "    .dataframe thead th {\n",
       "        text-align: right;\n",
       "    }\n",
       "</style>\n",
       "<table border=\"1\" class=\"dataframe\">\n",
       "  <thead>\n",
       "    <tr style=\"text-align: right;\">\n",
       "      <th></th>\n",
       "      <th>Cancer_type</th>\n",
       "      <th>AFFX-BioB-5_at</th>\n",
       "      <th>AFFX-BioB-M_at</th>\n",
       "      <th>AFFX-BioB-3_at</th>\n",
       "      <th>AFFX-BioC-5_at</th>\n",
       "      <th>AFFX-BioC-3_at</th>\n",
       "      <th>AFFX-BioDn-5_at</th>\n",
       "      <th>AFFX-BioDn-3_at</th>\n",
       "      <th>AFFX-CreX-5_at</th>\n",
       "      <th>AFFX-CreX-3_at</th>\n",
       "      <th>AFFX-BioB-5_st</th>\n",
       "      <th>AFFX-BioB-M_st</th>\n",
       "      <th>AFFX-BioB-3_st</th>\n",
       "      <th>AFFX-BioC-5_st</th>\n",
       "      <th>AFFX-BioC-3_st</th>\n",
       "      <th>AFFX-BioDn-5_st</th>\n",
       "      <th>AFFX-BioDn-3_st</th>\n",
       "      <th>AFFX-CreX-5_st</th>\n",
       "      <th>AFFX-CreX-3_st</th>\n",
       "      <th>hum_alu_at</th>\n",
       "      <th>AFFX-DapX-5_at</th>\n",
       "      <th>AFFX-DapX-M_at</th>\n",
       "      <th>AFFX-DapX-3_at</th>\n",
       "      <th>AFFX-LysX-5_at</th>\n",
       "      <th>AFFX-LysX-M_at</th>\n",
       "      <th>AFFX-LysX-3_at</th>\n",
       "      <th>AFFX-PheX-5_at</th>\n",
       "      <th>AFFX-PheX-M_at</th>\n",
       "      <th>AFFX-PheX-3_at</th>\n",
       "      <th>AFFX-ThrX-5_at</th>\n",
       "      <th>AFFX-ThrX-M_at</th>\n",
       "      <th>AFFX-ThrX-3_at</th>\n",
       "      <th>AFFX-TrpnX-5_at</th>\n",
       "      <th>AFFX-TrpnX-M_at</th>\n",
       "      <th>AFFX-TrpnX-3_at</th>\n",
       "      <th>AFFX-HUMISGF3A/M97935_5_at</th>\n",
       "      <th>AFFX-HUMISGF3A/M97935_MA_at</th>\n",
       "      <th>AFFX-HUMISGF3A/M97935_MB_at</th>\n",
       "      <th>AFFX-HUMISGF3A/M97935_3_at</th>\n",
       "      <th>AFFX-HUMRGE/M10098_5_at</th>\n",
       "      <th>AFFX-HUMRGE/M10098_M_at</th>\n",
       "      <th>AFFX-HUMRGE/M10098_3_at</th>\n",
       "      <th>AFFX-HUMGAPDH/M33197_5_at</th>\n",
       "      <th>AFFX-HUMGAPDH/M33197_M_at</th>\n",
       "      <th>AFFX-HUMGAPDH/M33197_3_at</th>\n",
       "      <th>AFFX-HSAC07/X00351_5_at</th>\n",
       "      <th>AFFX-HSAC07/X00351_M_at</th>\n",
       "      <th>AFFX-HSAC07/X00351_3_at</th>\n",
       "      <th>AFFX-HUMTFRR/M11507_5_at</th>\n",
       "      <th>AFFX-HUMTFRR/M11507_M_at</th>\n",
       "      <th>...</th>\n",
       "      <th>U22029_f_at</th>\n",
       "      <th>U49974_f_at</th>\n",
       "      <th>U65918_f_at</th>\n",
       "      <th>V00532_rna1_f_at</th>\n",
       "      <th>V00533_rna1_f_at</th>\n",
       "      <th>V00542_f_at</th>\n",
       "      <th>V00551_f_at</th>\n",
       "      <th>V01516_f_at</th>\n",
       "      <th>X00090_f_at</th>\n",
       "      <th>X13930_f_at</th>\n",
       "      <th>X53065_f_at</th>\n",
       "      <th>X64177_f_at</th>\n",
       "      <th>X67491_f_at</th>\n",
       "      <th>X71345_f_at</th>\n",
       "      <th>X97444_f_at</th>\n",
       "      <th>Z80780_f_at</th>\n",
       "      <th>X00351_f_at</th>\n",
       "      <th>X01677_f_at</th>\n",
       "      <th>M31667_f_at</th>\n",
       "      <th>L41268_f_at</th>\n",
       "      <th>X99479_f_at</th>\n",
       "      <th>HG658-HT658_f_at</th>\n",
       "      <th>M94880_f_at</th>\n",
       "      <th>S80905_f_at</th>\n",
       "      <th>X03068_f_at</th>\n",
       "      <th>Z34822_f_at</th>\n",
       "      <th>U87593_f_at</th>\n",
       "      <th>U88902_cds1_f_at</th>\n",
       "      <th>AC002076_cds2_at</th>\n",
       "      <th>D64015_at</th>\n",
       "      <th>HG2510-HT2606_at</th>\n",
       "      <th>L10717_at</th>\n",
       "      <th>L34355_at</th>\n",
       "      <th>L78833_cds4_at</th>\n",
       "      <th>M13981_at</th>\n",
       "      <th>M21064_at</th>\n",
       "      <th>M93143_at</th>\n",
       "      <th>S78825_at</th>\n",
       "      <th>U11863_at</th>\n",
       "      <th>U29175_at</th>\n",
       "      <th>U48730_at</th>\n",
       "      <th>U58516_at</th>\n",
       "      <th>U73738_at</th>\n",
       "      <th>X06956_at</th>\n",
       "      <th>X16699_at</th>\n",
       "      <th>X83863_at</th>\n",
       "      <th>Z17240_at</th>\n",
       "      <th>L49218_f_at</th>\n",
       "      <th>M71243_f_at</th>\n",
       "      <th>Z78285_f_at</th>\n",
       "    </tr>\n",
       "  </thead>\n",
       "  <tbody>\n",
       "    <tr>\n",
       "      <th>0</th>\n",
       "      <td>0</td>\n",
       "      <td>-214</td>\n",
       "      <td>-153</td>\n",
       "      <td>-58</td>\n",
       "      <td>88</td>\n",
       "      <td>-295</td>\n",
       "      <td>-558</td>\n",
       "      <td>199</td>\n",
       "      <td>-176</td>\n",
       "      <td>252</td>\n",
       "      <td>206</td>\n",
       "      <td>-41</td>\n",
       "      <td>-831</td>\n",
       "      <td>-653</td>\n",
       "      <td>-462</td>\n",
       "      <td>75</td>\n",
       "      <td>381</td>\n",
       "      <td>-118</td>\n",
       "      <td>-565</td>\n",
       "      <td>15091</td>\n",
       "      <td>7</td>\n",
       "      <td>311</td>\n",
       "      <td>-231</td>\n",
       "      <td>21</td>\n",
       "      <td>-107</td>\n",
       "      <td>165</td>\n",
       "      <td>-78</td>\n",
       "      <td>-204</td>\n",
       "      <td>29</td>\n",
       "      <td>-61</td>\n",
       "      <td>-105</td>\n",
       "      <td>-366</td>\n",
       "      <td>-41</td>\n",
       "      <td>-346</td>\n",
       "      <td>-297</td>\n",
       "      <td>-109</td>\n",
       "      <td>-13</td>\n",
       "      <td>215</td>\n",
       "      <td>797</td>\n",
       "      <td>14538</td>\n",
       "      <td>9738</td>\n",
       "      <td>8529</td>\n",
       "      <td>15076</td>\n",
       "      <td>11126</td>\n",
       "      <td>17782</td>\n",
       "      <td>16287</td>\n",
       "      <td>18727</td>\n",
       "      <td>15774</td>\n",
       "      <td>264</td>\n",
       "      <td>70</td>\n",
       "      <td>...</td>\n",
       "      <td>26</td>\n",
       "      <td>63</td>\n",
       "      <td>60</td>\n",
       "      <td>-20</td>\n",
       "      <td>-30</td>\n",
       "      <td>-91</td>\n",
       "      <td>-43</td>\n",
       "      <td>488</td>\n",
       "      <td>1</td>\n",
       "      <td>504</td>\n",
       "      <td>391</td>\n",
       "      <td>-763</td>\n",
       "      <td>172</td>\n",
       "      <td>149</td>\n",
       "      <td>341</td>\n",
       "      <td>788</td>\n",
       "      <td>21210</td>\n",
       "      <td>13771</td>\n",
       "      <td>598</td>\n",
       "      <td>396</td>\n",
       "      <td>245</td>\n",
       "      <td>14476</td>\n",
       "      <td>10882</td>\n",
       "      <td>701</td>\n",
       "      <td>2762</td>\n",
       "      <td>-325</td>\n",
       "      <td>-67</td>\n",
       "      <td>346</td>\n",
       "      <td>-68</td>\n",
       "      <td>229</td>\n",
       "      <td>-14</td>\n",
       "      <td>108</td>\n",
       "      <td>28</td>\n",
       "      <td>349</td>\n",
       "      <td>61</td>\n",
       "      <td>273</td>\n",
       "      <td>384</td>\n",
       "      <td>-306</td>\n",
       "      <td>-1827</td>\n",
       "      <td>1582</td>\n",
       "      <td>185</td>\n",
       "      <td>511</td>\n",
       "      <td>-125</td>\n",
       "      <td>389</td>\n",
       "      <td>-37</td>\n",
       "      <td>793</td>\n",
       "      <td>329</td>\n",
       "      <td>36</td>\n",
       "      <td>191</td>\n",
       "      <td>-37</td>\n",
       "    </tr>\n",
       "    <tr>\n",
       "      <th>2</th>\n",
       "      <td>0</td>\n",
       "      <td>-106</td>\n",
       "      <td>-125</td>\n",
       "      <td>-76</td>\n",
       "      <td>168</td>\n",
       "      <td>-230</td>\n",
       "      <td>-284</td>\n",
       "      <td>4</td>\n",
       "      <td>-122</td>\n",
       "      <td>70</td>\n",
       "      <td>252</td>\n",
       "      <td>155</td>\n",
       "      <td>-471</td>\n",
       "      <td>-490</td>\n",
       "      <td>-184</td>\n",
       "      <td>32</td>\n",
       "      <td>213</td>\n",
       "      <td>1</td>\n",
       "      <td>-260</td>\n",
       "      <td>18128</td>\n",
       "      <td>-28</td>\n",
       "      <td>118</td>\n",
       "      <td>-153</td>\n",
       "      <td>-8</td>\n",
       "      <td>-111</td>\n",
       "      <td>44</td>\n",
       "      <td>-88</td>\n",
       "      <td>-102</td>\n",
       "      <td>32</td>\n",
       "      <td>5</td>\n",
       "      <td>-18</td>\n",
       "      <td>-228</td>\n",
       "      <td>53</td>\n",
       "      <td>-348</td>\n",
       "      <td>-169</td>\n",
       "      <td>-156</td>\n",
       "      <td>-55</td>\n",
       "      <td>122</td>\n",
       "      <td>483</td>\n",
       "      <td>1284</td>\n",
       "      <td>2731</td>\n",
       "      <td>316</td>\n",
       "      <td>14653</td>\n",
       "      <td>15030</td>\n",
       "      <td>17384</td>\n",
       "      <td>16386</td>\n",
       "      <td>19091</td>\n",
       "      <td>18323</td>\n",
       "      <td>291</td>\n",
       "      <td>78</td>\n",
       "      <td>...</td>\n",
       "      <td>45</td>\n",
       "      <td>-29</td>\n",
       "      <td>23</td>\n",
       "      <td>-20</td>\n",
       "      <td>-104</td>\n",
       "      <td>-47</td>\n",
       "      <td>-13</td>\n",
       "      <td>325</td>\n",
       "      <td>-24</td>\n",
       "      <td>299</td>\n",
       "      <td>162</td>\n",
       "      <td>-56</td>\n",
       "      <td>279</td>\n",
       "      <td>183</td>\n",
       "      <td>259</td>\n",
       "      <td>605</td>\n",
       "      <td>18530</td>\n",
       "      <td>15619</td>\n",
       "      <td>65</td>\n",
       "      <td>122</td>\n",
       "      <td>126</td>\n",
       "      <td>8443</td>\n",
       "      <td>8512</td>\n",
       "      <td>182</td>\n",
       "      <td>1503</td>\n",
       "      <td>-78</td>\n",
       "      <td>29</td>\n",
       "      <td>159</td>\n",
       "      <td>18</td>\n",
       "      <td>71</td>\n",
       "      <td>42</td>\n",
       "      <td>44</td>\n",
       "      <td>-33</td>\n",
       "      <td>159</td>\n",
       "      <td>71</td>\n",
       "      <td>134</td>\n",
       "      <td>178</td>\n",
       "      <td>-182</td>\n",
       "      <td>-179</td>\n",
       "      <td>626</td>\n",
       "      <td>156</td>\n",
       "      <td>649</td>\n",
       "      <td>57</td>\n",
       "      <td>504</td>\n",
       "      <td>-26</td>\n",
       "      <td>250</td>\n",
       "      <td>314</td>\n",
       "      <td>14</td>\n",
       "      <td>56</td>\n",
       "      <td>-25</td>\n",
       "    </tr>\n",
       "    <tr>\n",
       "      <th>5</th>\n",
       "      <td>0</td>\n",
       "      <td>-67</td>\n",
       "      <td>-93</td>\n",
       "      <td>84</td>\n",
       "      <td>25</td>\n",
       "      <td>-179</td>\n",
       "      <td>-323</td>\n",
       "      <td>-135</td>\n",
       "      <td>-127</td>\n",
       "      <td>-2</td>\n",
       "      <td>-66</td>\n",
       "      <td>208</td>\n",
       "      <td>-472</td>\n",
       "      <td>-163</td>\n",
       "      <td>-192</td>\n",
       "      <td>-80</td>\n",
       "      <td>89</td>\n",
       "      <td>-106</td>\n",
       "      <td>-251</td>\n",
       "      <td>27089</td>\n",
       "      <td>-5</td>\n",
       "      <td>186</td>\n",
       "      <td>-18</td>\n",
       "      <td>-2</td>\n",
       "      <td>-150</td>\n",
       "      <td>79</td>\n",
       "      <td>-57</td>\n",
       "      <td>-116</td>\n",
       "      <td>-45</td>\n",
       "      <td>38</td>\n",
       "      <td>-79</td>\n",
       "      <td>-165</td>\n",
       "      <td>15</td>\n",
       "      <td>-432</td>\n",
       "      <td>-231</td>\n",
       "      <td>-321</td>\n",
       "      <td>-224</td>\n",
       "      <td>-17</td>\n",
       "      <td>152</td>\n",
       "      <td>8299</td>\n",
       "      <td>4205</td>\n",
       "      <td>5352</td>\n",
       "      <td>19282</td>\n",
       "      <td>20865</td>\n",
       "      <td>25787</td>\n",
       "      <td>11665</td>\n",
       "      <td>17706</td>\n",
       "      <td>17559</td>\n",
       "      <td>237</td>\n",
       "      <td>14</td>\n",
       "      <td>...</td>\n",
       "      <td>-148</td>\n",
       "      <td>17</td>\n",
       "      <td>-34</td>\n",
       "      <td>-10</td>\n",
       "      <td>27</td>\n",
       "      <td>-66</td>\n",
       "      <td>-8</td>\n",
       "      <td>537</td>\n",
       "      <td>143</td>\n",
       "      <td>373</td>\n",
       "      <td>240</td>\n",
       "      <td>761</td>\n",
       "      <td>208</td>\n",
       "      <td>319</td>\n",
       "      <td>235</td>\n",
       "      <td>1434</td>\n",
       "      <td>14925</td>\n",
       "      <td>23032</td>\n",
       "      <td>685</td>\n",
       "      <td>370</td>\n",
       "      <td>175</td>\n",
       "      <td>11348</td>\n",
       "      <td>10250</td>\n",
       "      <td>352</td>\n",
       "      <td>3158</td>\n",
       "      <td>-271</td>\n",
       "      <td>-47</td>\n",
       "      <td>120</td>\n",
       "      <td>-27</td>\n",
       "      <td>126</td>\n",
       "      <td>-24</td>\n",
       "      <td>2</td>\n",
       "      <td>-287</td>\n",
       "      <td>137</td>\n",
       "      <td>162</td>\n",
       "      <td>181</td>\n",
       "      <td>91</td>\n",
       "      <td>-281</td>\n",
       "      <td>-1399</td>\n",
       "      <td>219</td>\n",
       "      <td>48</td>\n",
       "      <td>224</td>\n",
       "      <td>60</td>\n",
       "      <td>194</td>\n",
       "      <td>-10</td>\n",
       "      <td>291</td>\n",
       "      <td>41</td>\n",
       "      <td>8</td>\n",
       "      <td>-2</td>\n",
       "      <td>-80</td>\n",
       "    </tr>\n",
       "    <tr>\n",
       "      <th>9</th>\n",
       "      <td>0</td>\n",
       "      <td>-476</td>\n",
       "      <td>-213</td>\n",
       "      <td>-18</td>\n",
       "      <td>301</td>\n",
       "      <td>-403</td>\n",
       "      <td>-394</td>\n",
       "      <td>-42</td>\n",
       "      <td>-144</td>\n",
       "      <td>98</td>\n",
       "      <td>173</td>\n",
       "      <td>-133</td>\n",
       "      <td>-958</td>\n",
       "      <td>-271</td>\n",
       "      <td>-228</td>\n",
       "      <td>-42</td>\n",
       "      <td>232</td>\n",
       "      <td>100</td>\n",
       "      <td>-599</td>\n",
       "      <td>14022</td>\n",
       "      <td>95</td>\n",
       "      <td>98</td>\n",
       "      <td>-208</td>\n",
       "      <td>107</td>\n",
       "      <td>-237</td>\n",
       "      <td>84</td>\n",
       "      <td>-241</td>\n",
       "      <td>-144</td>\n",
       "      <td>-29</td>\n",
       "      <td>22</td>\n",
       "      <td>-91</td>\n",
       "      <td>-573</td>\n",
       "      <td>76</td>\n",
       "      <td>-732</td>\n",
       "      <td>-283</td>\n",
       "      <td>-283</td>\n",
       "      <td>-226</td>\n",
       "      <td>265</td>\n",
       "      <td>808</td>\n",
       "      <td>-96</td>\n",
       "      <td>-396</td>\n",
       "      <td>-382</td>\n",
       "      <td>16566</td>\n",
       "      <td>13000</td>\n",
       "      <td>15983</td>\n",
       "      <td>14989</td>\n",
       "      <td>19126</td>\n",
       "      <td>16599</td>\n",
       "      <td>489</td>\n",
       "      <td>166</td>\n",
       "      <td>...</td>\n",
       "      <td>157</td>\n",
       "      <td>318</td>\n",
       "      <td>36</td>\n",
       "      <td>28</td>\n",
       "      <td>-237</td>\n",
       "      <td>-84</td>\n",
       "      <td>-54</td>\n",
       "      <td>625</td>\n",
       "      <td>142</td>\n",
       "      <td>1138</td>\n",
       "      <td>496</td>\n",
       "      <td>-2227</td>\n",
       "      <td>655</td>\n",
       "      <td>399</td>\n",
       "      <td>476</td>\n",
       "      <td>784</td>\n",
       "      <td>22677</td>\n",
       "      <td>14750</td>\n",
       "      <td>1334</td>\n",
       "      <td>698</td>\n",
       "      <td>305</td>\n",
       "      <td>10971</td>\n",
       "      <td>11978</td>\n",
       "      <td>436</td>\n",
       "      <td>1116</td>\n",
       "      <td>-100</td>\n",
       "      <td>-6</td>\n",
       "      <td>600</td>\n",
       "      <td>198</td>\n",
       "      <td>650</td>\n",
       "      <td>189</td>\n",
       "      <td>116</td>\n",
       "      <td>-414</td>\n",
       "      <td>659</td>\n",
       "      <td>40</td>\n",
       "      <td>299</td>\n",
       "      <td>897</td>\n",
       "      <td>-249</td>\n",
       "      <td>-3381</td>\n",
       "      <td>917</td>\n",
       "      <td>241</td>\n",
       "      <td>1214</td>\n",
       "      <td>127</td>\n",
       "      <td>255</td>\n",
       "      <td>50</td>\n",
       "      <td>1701</td>\n",
       "      <td>1108</td>\n",
       "      <td>61</td>\n",
       "      <td>525</td>\n",
       "      <td>-83</td>\n",
       "    </tr>\n",
       "    <tr>\n",
       "      <th>10</th>\n",
       "      <td>0</td>\n",
       "      <td>-81</td>\n",
       "      <td>-150</td>\n",
       "      <td>-119</td>\n",
       "      <td>78</td>\n",
       "      <td>-152</td>\n",
       "      <td>-340</td>\n",
       "      <td>-36</td>\n",
       "      <td>-141</td>\n",
       "      <td>96</td>\n",
       "      <td>-55</td>\n",
       "      <td>-209</td>\n",
       "      <td>-362</td>\n",
       "      <td>-427</td>\n",
       "      <td>-4</td>\n",
       "      <td>199</td>\n",
       "      <td>290</td>\n",
       "      <td>1</td>\n",
       "      <td>-350</td>\n",
       "      <td>23507</td>\n",
       "      <td>41</td>\n",
       "      <td>93</td>\n",
       "      <td>-147</td>\n",
       "      <td>4</td>\n",
       "      <td>-81</td>\n",
       "      <td>76</td>\n",
       "      <td>-67</td>\n",
       "      <td>-46</td>\n",
       "      <td>-55</td>\n",
       "      <td>1</td>\n",
       "      <td>19</td>\n",
       "      <td>-267</td>\n",
       "      <td>-10</td>\n",
       "      <td>-414</td>\n",
       "      <td>-133</td>\n",
       "      <td>-130</td>\n",
       "      <td>-23</td>\n",
       "      <td>78</td>\n",
       "      <td>524</td>\n",
       "      <td>832</td>\n",
       "      <td>933</td>\n",
       "      <td>273</td>\n",
       "      <td>19483</td>\n",
       "      <td>16430</td>\n",
       "      <td>20256</td>\n",
       "      <td>18222</td>\n",
       "      <td>23996</td>\n",
       "      <td>21277</td>\n",
       "      <td>304</td>\n",
       "      <td>78</td>\n",
       "      <td>...</td>\n",
       "      <td>58</td>\n",
       "      <td>35</td>\n",
       "      <td>-15</td>\n",
       "      <td>-58</td>\n",
       "      <td>-118</td>\n",
       "      <td>-67</td>\n",
       "      <td>-15</td>\n",
       "      <td>340</td>\n",
       "      <td>-78</td>\n",
       "      <td>350</td>\n",
       "      <td>258</td>\n",
       "      <td>-252</td>\n",
       "      <td>73</td>\n",
       "      <td>273</td>\n",
       "      <td>377</td>\n",
       "      <td>-1</td>\n",
       "      <td>22483</td>\n",
       "      <td>17487</td>\n",
       "      <td>1371</td>\n",
       "      <td>212</td>\n",
       "      <td>146</td>\n",
       "      <td>10694</td>\n",
       "      <td>8760</td>\n",
       "      <td>494</td>\n",
       "      <td>8161</td>\n",
       "      <td>-64</td>\n",
       "      <td>16</td>\n",
       "      <td>514</td>\n",
       "      <td>52</td>\n",
       "      <td>188</td>\n",
       "      <td>34</td>\n",
       "      <td>22</td>\n",
       "      <td>229</td>\n",
       "      <td>236</td>\n",
       "      <td>-62</td>\n",
       "      <td>172</td>\n",
       "      <td>376</td>\n",
       "      <td>-173</td>\n",
       "      <td>-1066</td>\n",
       "      <td>453</td>\n",
       "      <td>186</td>\n",
       "      <td>573</td>\n",
       "      <td>-57</td>\n",
       "      <td>694</td>\n",
       "      <td>-19</td>\n",
       "      <td>636</td>\n",
       "      <td>205</td>\n",
       "      <td>17</td>\n",
       "      <td>127</td>\n",
       "      <td>-13</td>\n",
       "    </tr>\n",
       "  </tbody>\n",
       "</table>\n",
       "<p>5 rows × 7130 columns</p>\n",
       "</div>"
      ],
      "text/plain": [
       "    Cancer_type  AFFX-BioB-5_at  AFFX-BioB-M_at  AFFX-BioB-3_at  AFFX-BioC-5_at  AFFX-BioC-3_at  AFFX-BioDn-5_at  AFFX-BioDn-3_at  AFFX-CreX-5_at  AFFX-CreX-3_at  AFFX-BioB-5_st  AFFX-BioB-M_st  AFFX-BioB-3_st  AFFX-BioC-5_st  AFFX-BioC-3_st  AFFX-BioDn-5_st  AFFX-BioDn-3_st  AFFX-CreX-5_st  AFFX-CreX-3_st  hum_alu_at  AFFX-DapX-5_at  AFFX-DapX-M_at  AFFX-DapX-3_at  AFFX-LysX-5_at  AFFX-LysX-M_at  AFFX-LysX-3_at  AFFX-PheX-5_at  AFFX-PheX-M_at  AFFX-PheX-3_at  AFFX-ThrX-5_at  AFFX-ThrX-M_at  \\\n",
       "0             0            -214            -153             -58              88            -295             -558              199            -176             252             206             -41            -831            -653            -462               75              381            -118            -565       15091               7             311            -231              21            -107             165             -78            -204              29             -61            -105   \n",
       "2             0            -106            -125             -76             168            -230             -284                4            -122              70             252             155            -471            -490            -184               32              213               1            -260       18128             -28             118            -153              -8            -111              44             -88            -102              32               5             -18   \n",
       "5             0             -67             -93              84              25            -179             -323             -135            -127              -2             -66             208            -472            -163            -192              -80               89            -106            -251       27089              -5             186             -18              -2            -150              79             -57            -116             -45              38             -79   \n",
       "9             0            -476            -213             -18             301            -403             -394              -42            -144              98             173            -133            -958            -271            -228              -42              232             100            -599       14022              95              98            -208             107            -237              84            -241            -144             -29              22             -91   \n",
       "10            0             -81            -150            -119              78            -152             -340              -36            -141              96             -55            -209            -362            -427              -4              199              290               1            -350       23507              41              93            -147               4             -81              76             -67             -46             -55               1              19   \n",
       "\n",
       "    AFFX-ThrX-3_at  AFFX-TrpnX-5_at  AFFX-TrpnX-M_at  AFFX-TrpnX-3_at  AFFX-HUMISGF3A/M97935_5_at  AFFX-HUMISGF3A/M97935_MA_at  AFFX-HUMISGF3A/M97935_MB_at  AFFX-HUMISGF3A/M97935_3_at  AFFX-HUMRGE/M10098_5_at  AFFX-HUMRGE/M10098_M_at  AFFX-HUMRGE/M10098_3_at  AFFX-HUMGAPDH/M33197_5_at  AFFX-HUMGAPDH/M33197_M_at  AFFX-HUMGAPDH/M33197_3_at  AFFX-HSAC07/X00351_5_at  AFFX-HSAC07/X00351_M_at  AFFX-HSAC07/X00351_3_at  AFFX-HUMTFRR/M11507_5_at  AFFX-HUMTFRR/M11507_M_at     ...       U22029_f_at  \\\n",
       "0             -366              -41             -346             -297                        -109                          -13                          215                         797                    14538                     9738                     8529                      15076                      11126                      17782                    16287                    18727                    15774                       264                        70     ...                26   \n",
       "2             -228               53             -348             -169                        -156                          -55                          122                         483                     1284                     2731                      316                      14653                      15030                      17384                    16386                    19091                    18323                       291                        78     ...                45   \n",
       "5             -165               15             -432             -231                        -321                         -224                          -17                         152                     8299                     4205                     5352                      19282                      20865                      25787                    11665                    17706                    17559                       237                        14     ...              -148   \n",
       "9             -573               76             -732             -283                        -283                         -226                          265                         808                      -96                     -396                     -382                      16566                      13000                      15983                    14989                    19126                    16599                       489                       166     ...               157   \n",
       "10            -267              -10             -414             -133                        -130                          -23                           78                         524                      832                      933                      273                      19483                      16430                      20256                    18222                    23996                    21277                       304                        78     ...                58   \n",
       "\n",
       "    U49974_f_at  U65918_f_at  V00532_rna1_f_at  V00533_rna1_f_at  V00542_f_at  V00551_f_at  V01516_f_at  X00090_f_at  X13930_f_at  X53065_f_at  X64177_f_at  X67491_f_at  X71345_f_at  X97444_f_at  Z80780_f_at  X00351_f_at  X01677_f_at  M31667_f_at  L41268_f_at  X99479_f_at  HG658-HT658_f_at  M94880_f_at  S80905_f_at  X03068_f_at  Z34822_f_at  U87593_f_at  U88902_cds1_f_at  AC002076_cds2_at  D64015_at  HG2510-HT2606_at  L10717_at  L34355_at  L78833_cds4_at  M13981_at  M21064_at  M93143_at  \\\n",
       "0            63           60               -20               -30          -91          -43          488            1          504          391         -763          172          149          341          788        21210        13771          598          396          245             14476        10882          701         2762         -325          -67               346               -68        229               -14        108         28             349         61        273        384   \n",
       "2           -29           23               -20              -104          -47          -13          325          -24          299          162          -56          279          183          259          605        18530        15619           65          122          126              8443         8512          182         1503          -78           29               159                18         71                42         44        -33             159         71        134        178   \n",
       "5            17          -34               -10                27          -66           -8          537          143          373          240          761          208          319          235         1434        14925        23032          685          370          175             11348        10250          352         3158         -271          -47               120               -27        126               -24          2       -287             137        162        181         91   \n",
       "9           318           36                28              -237          -84          -54          625          142         1138          496        -2227          655          399          476          784        22677        14750         1334          698          305             10971        11978          436         1116         -100           -6               600               198        650               189        116       -414             659         40        299        897   \n",
       "10           35          -15               -58              -118          -67          -15          340          -78          350          258         -252           73          273          377           -1        22483        17487         1371          212          146             10694         8760          494         8161          -64           16               514                52        188                34         22        229             236        -62        172        376   \n",
       "\n",
       "    S78825_at  U11863_at  U29175_at  U48730_at  U58516_at  U73738_at  X06956_at  X16699_at  X83863_at  Z17240_at  L49218_f_at  M71243_f_at  Z78285_f_at  \n",
       "0        -306      -1827       1582        185        511       -125        389        -37        793        329           36          191          -37  \n",
       "2        -182       -179        626        156        649         57        504        -26        250        314           14           56          -25  \n",
       "5        -281      -1399        219         48        224         60        194        -10        291         41            8           -2          -80  \n",
       "9        -249      -3381        917        241       1214        127        255         50       1701       1108           61          525          -83  \n",
       "10       -173      -1066        453        186        573        -57        694        -19        636        205           17          127          -13  \n",
       "\n",
       "[5 rows x 7130 columns]"
      ]
     },
     "metadata": {},
     "output_type": "display_data"
    }
   ],
   "source": [
    "display(data_train.head())"
   ]
  },
  {
   "cell_type": "code",
   "execution_count": 10,
   "metadata": {},
   "outputs": [],
   "source": [
    "min_vals = data_train.min()\n",
    "max_vals = data_train.max()\n",
    "\n",
    "data_train = (data_train - min_vals)/(max_vals - min_vals)\n",
    "data_test = (data_test - min_vals)/(max_vals - min_vals)"
   ]
  },
  {
   "cell_type": "markdown",
   "metadata": {},
   "source": [
    "**1.2:** Notice that the results training set contains significantly more predictors than observations. Do you foresee a problem in fitting a classification model to such a data set?"
   ]
  },
  {
   "cell_type": "code",
   "execution_count": 7,
   "metadata": {},
   "outputs": [
    {
     "data": {
      "text/plain": [
       "(40, 7130)"
      ]
     },
     "execution_count": 7,
     "metadata": {},
     "output_type": "execute_result"
    }
   ],
   "source": [
    "data_train.shape"
   ]
  },
  {
   "cell_type": "markdown",
   "metadata": {},
   "source": [
    "The training set is improper as it contains many more columns compared to number of samples. If we fit models to the given dataset, they will be highly overfitted. This is called the curse of dimensionality."
   ]
  },
  {
   "cell_type": "markdown",
   "metadata": {},
   "source": [
    "**1.3:** Lets explore a few of the genes and see how well they discriminate between cancer classes. Create a single figure with four subplots arranged in a 2x2 grid. Consider the following four genes: `D29963_at`, `M23161_at`, `hum_alu_at`, and `AFFX-PheX-5_at`. For each gene overlay two histograms of the gene expression values on one of the subplots, one histogram for each cancer type. Does it appear that any of these genes discriminate between the two classes well? How are you able to tell?"
   ]
  },
  {
   "cell_type": "code",
   "execution_count": 13,
   "metadata": {},
   "outputs": [
    {
     "data": {
      "image/png": "[encoded data removed]",
      "text/plain": [
       "<Figure size 1152x720 with 4 Axes>"
      ]
     },
     "metadata": {},
     "output_type": "display_data"
    }
   ],
   "source": [
    "alpha=0.5\n",
    "\n",
    "fig, ax = plt.subplots(2, 2, figsize=(16, 10))\n",
    "\n",
    "cancer_type_0 = data_train[data_train['Cancer_type'] == 0]\n",
    "cancer_type_1 = data_train[data_train['Cancer_type'] == 1]\n",
    "\n",
    "## D29963_at\n",
    "ax[0, 0].hist(cancer_type_0['D29963_at'], alpha=alpha, label='cancer type 0', normed=True)\n",
    "ax[0, 0].hist(cancer_type_1['D29963_at'], alpha=alpha, label='cancer type 1', normed=True)\n",
    "ax[0, 0].set_title('D29963_at')\n",
    "ax[0, 0].legend()\n",
    "\n",
    "## M23161_at\n",
    "ax[0, 1].hist(cancer_type_0['M23161_at'], alpha=alpha, label='cancer type 0', normed=True)\n",
    "ax[0, 1].hist(cancer_type_1['M23161_at'], alpha=alpha, label='cancer type 1', normed=True)\n",
    "ax[0, 1].set_title('M23161_at')\n",
    "ax[0, 1].legend()\n",
    "\n",
    "## hum_alu_at\n",
    "ax[1, 0].hist(cancer_type_0['hum_alu_at'], alpha=alpha, label='cancer type 0', normed=True)\n",
    "ax[1, 0].hist(cancer_type_1['hum_alu_at'], alpha=alpha, label='cancer type 1', normed=True)\n",
    "ax[1, 0].set_title('hum_alu_at')\n",
    "ax[1, 0].legend()\n",
    "\n",
    "## AFFX-PheX-5_at\n",
    "ax[1, 1].hist(cancer_type_0['AFFX-PheX-5_at'], alpha=alpha, label='cancer type 0', normed=True)\n",
    "ax[1, 1].hist(cancer_type_1['AFFX-PheX-5_at'], alpha=alpha, label='cancer type 1', normed=True)\n",
    "ax[1, 1].set_title('AFFX-PheX-5_at')\n",
    "ax[1, 1].legend();"
   ]
  },
  {
   "cell_type": "markdown",
   "metadata": {},
   "source": [
    "From the above histograms, we may argue that `D29963_at` and `hum_alu_at` have slightly disjointed regions in the graph and may be singly able to differentiate between the cancer types. For the other two genes, the histograms for both cancer types seem to overlap and don't have distinctive regions. <br/> \n",
    "\n",
    "If in any of the above plots, the frequency level of each cancer type was different or the gene measure was in different ranges, we could argue that that a gene is able to distinguish between different cancer types well. This may be said for different frequency levels of `D29963_at` but doesn't seem true in any other case.\n",
    "\n",
    "It is also useful to note the shape of the individual distributions as well. For instance, `hum_alu_at` has a very bimodal distribution for type 1, whereas for 0 it is more unimodal. The same can be said for `M23161_at` to a lesser extent. Loosely speaking, the characteristics of the distributions could be used to compare the odds of a given gene expression value indicating 0 vs 1. \n",
    "\n",
    "Finally, it is worth noting in our solution that `density`/`normed` is not ensuring that the result matches the **true** continuous PDF, but rather simply scaling the counts of the values to turn it into a valid discrete density function determined solely by our samples. This helps us compare the two cancer types, as the number of samples from each cancer type is different. "
   ]
  },
  {
   "cell_type": "markdown",
   "metadata": {},
   "source": [
    "**1.4:** Since our data has dimensions that are not easily visualizable, we want to reduce the dimensionality of the data to make it easier to visualize. Using PCA, find the top two principal components for the gene expression data. Generate a scatter plot using these principal components, highlighting the two cancer types in different colors. How well do the top two principal components discriminate between the two classes? How much of the variance within the data do these two principal components explain?"
   ]
  },
  {
   "cell_type": "code",
   "execution_count": 27,
   "metadata": {},
   "outputs": [
    {
     "name": "stdout",
     "output_type": "stream",
     "text": [
      "pca shape: (40, 2)\n",
      "Variance explained: 0.27\n"
     ]
    },
    {
     "data": {
      "image/png": "[encoded data removed]",
      "text/plain": [
       "<Figure size 426.425x360 with 1 Axes>"
      ]
     },
     "metadata": {},
     "output_type": "display_data"
    }
   ],
   "source": [
    "x_train, y_train = data_train.iloc[:,1:], data_train.iloc[:,0]\n",
    "x_test, y_test = data_test.iloc[:,1:], data_test.iloc[:,0]\n",
    "\n",
    "pca = PCA(n_components = 2).fit(x_train)\n",
    "pca_x = pca.transform(x_train)\n",
    "print(\"pca shape:\", pca_x.shape)\n",
    "print( \"Variance explained: {:.2f}\".format(np.sum(pca.explained_variance_ratio_)))\n",
    "\n",
    "## generating scatter plot\n",
    "pca_df = pd.DataFrame(pca_x, columns=['PCA1', 'PCA2'])\n",
    "pca_df['Cancer_type'] = y_train.values\n",
    "\n",
    "sns.lmplot(x=\"PCA1\", y=\"PCA2\", hue='Cancer_type', data=pca_df, fit_reg=False)\n",
    "plt.title('Scatter plot of top 2 components', fontsize=14);"
   ]
  },
  {
   "cell_type": "markdown",
   "metadata": {},
   "source": [
    "The first two principal components only show a limited capacity to discriminate between the two cancer types. As we can see in the plot, the two types often occupy the same regions in this \"PC space.\" This is probably due to fact that only 27% of the variance can be explained by the first two PCs, so there is potentially more information we could exploit to classify the cancer type. "
   ]
  },
  {
   "cell_type": "markdown",
   "metadata": {},
   "source": [
    "**1.5** Plot the cumulative variance explained in the feature set as a function of the number of PCA-components (up to the first 50 components).  Do you feel 2 components is enough, and if not, how many components would you choose to consider?  Justify your choice in 3 or fewer sentences.  Finally, determine how many components are needed to explain at least 90% of the variability in the feature set."
   ]
  },
  {
   "cell_type": "code",
   "execution_count": 41,
   "metadata": {},
   "outputs": [
    {
     "name": "stdout",
     "output_type": "stream",
     "text": [
      "Number of components that explain at least 90% of the variance: 29\n"
     ]
    },
    {
     "data": {
      "image/png": "[encoded data removed]",
      "text/plain": [
       "<Figure size 432x288 with 1 Axes>"
      ]
     },
     "metadata": {},
     "output_type": "display_data"
    }
   ],
   "source": [
    "var_explained = []\n",
    "total_comp = 40\n",
    "pca = PCA(n_components = total_comp).fit(x_train)\n",
    "\n",
    "plt.plot(np.linspace(1, total_comp, total_comp), np.cumsum(pca.explained_variance_ratio_))\n",
    "plt.xlabel('number of components')\n",
    "plt.ylabel('variance explained')\n",
    "plt.title('Cumulative variance explained',fontsize=15)\n",
    "\n",
    "print(\"Number of components that explain at least 90% of the variance: {:.0f}\".format(\n",
    "    sum(np.cumsum(pca.explained_variance_ratio_)<=0.9)+1));"
   ]
  },
  {
   "cell_type": "markdown",
   "metadata": {},
   "source": [
    "The number of principal components cannot be greater than the number of samples or the number of features. So in this case we can only get at most 40 PCs. As shown above, 29 components are needed to explain at least 90% of the variability in the feature set.\n",
    "\n",
    "Two components are probably not enough in this context, since they can only explain 27% of the variance in the data. However, the number of components to consider ultimately depends on how we plan to use the transformed data. If we simply want to visualize the classes, then it is clear we cannot use more than three components. If we want to train a classifier on the transformed data (as we do later on), then we could consider a series of different numbers of PCs, and observe how the classifiation accuracy changes based on the number used. We could also consider the point of diminishing returns of adding new PCs, as demonstrated below."
   ]
  },
  {
   "cell_type": "code",
   "execution_count": 47,
   "metadata": {},
   "outputs": [
    {
     "name": "stdout",
     "output_type": "stream",
     "text": [
      "The variance explained by first 11 components is 0.60\n"
     ]
    },
    {
     "data": {
      "image/png": "[encoded data removed]",
      "text/plain": [
       "<Figure size 432x288 with 1 Axes>"
      ]
     },
     "metadata": {},
     "output_type": "display_data"
    }
   ],
   "source": [
    "print(\"The variance explained by first 11 components is {:.2f}\".format(np.sum(pca.explained_variance_ratio_[:11])))\n",
    "\n",
    "plt.scatter(range(1, 41), pca.explained_variance_ratio_)\n",
    "plt.xlabel('index of components')\n",
    "plt.ylabel('variance explained')\n",
    "plt.title('Variance explained by each component', fontsize=15);"
   ]
  },
  {
   "cell_type": "markdown",
   "metadata": {},
   "source": [
    "From the plot above we see approximately that the first 11 components explain relatively high variance, and the components afterward each explain similar amounts of variance. If we choose the first 11 components based on this observation, we would explain more than 60% of total variance."
   ]
  },
  {
   "cell_type": "markdown",
   "metadata": {},
   "source": [
    "## Linear Regression vs. Logistic Regression \n"
   ]
  },
  {
   "cell_type": "markdown",
   "metadata": {},
   "source": [
    "**2.1:** Fit a simple linear regression model to the training set using the single gene predictor `D29963_at` to predict cancer type and plot the histogram of predicted values. We could interpret the scores predicted by the regression model for a patient as an estimate of the probability that the patient has Cancer_type=1 (AML). Is there a problem with this interpretation?"
   ]
  },
  {
   "cell_type": "code",
   "execution_count": 49,
   "metadata": {},
   "outputs": [
    {
     "name": "stdout",
     "output_type": "stream",
     "text": [
      "shapes of x_train and x_test (40, 2) (33, 2)\n"
     ]
    },
    {
     "data": {
      "image/png": "[encoded data removed]",
      "text/plain": [
       "<Figure size 432x288 with 2 Axes>"
      ]
     },
     "metadata": {},
     "output_type": "display_data"
    }
   ],
   "source": [
    "single_x_train = sm.add_constant(x_train['D29963_at'])\n",
    "single_x_test = sm.add_constant(x_test['D29963_at'])\n",
    "print(\"shapes of x_train and x_test\", single_x_train.shape, single_x_test.shape)\n",
    "\n",
    "regr = OLS(y_train, single_x_train).fit()\n",
    "y_train_pred = regr.predict(single_x_train)\n",
    "y_test_pred = regr.predict(single_x_test)\n",
    "\n",
    "fig = plt.figure();\n",
    "host = fig.add_subplot(111)\n",
    "par1 = host.twinx()\n",
    "\n",
    "host.set_ylabel(\"Probability\")\n",
    "par1.set_ylabel(\"Class\")\n",
    "\n",
    "host.plot(x_train['D29963_at'], y_train_pred, '-');\n",
    "host.plot(x_train['D29963_at'], y_train, 's');\n",
    "host.set_xlabel('Normalized D29963_at')\n",
    "host.set_ylabel('Probability of being ALM')\n",
    "labels = ['ALL', 'ALM'];\n",
    "\n",
    "## You can specify a rotation for the tick labels in degrees or with keywords.\n",
    "par1.set_yticks( [0.082, 0.81]);\n",
    "par1.set_yticklabels(labels);"
   ]
  },
  {
   "cell_type": "code",
   "execution_count": 51,
   "metadata": {},
   "outputs": [
    {
     "data": {
      "image/png": "[encoded data removed]",
      "text/plain": [
       "<Figure size 576x360 with 1 Axes>"
      ]
     },
     "metadata": {},
     "output_type": "display_data"
    }
   ],
   "source": [
    "fig, axs = plt.subplots(1, 1, figsize=(8, 5))\n",
    "axs.hist(y_train_pred, alpha=0.5)\n",
    "axs.set_xlabel(\"Response Values of Trained Model\")\n",
    "axs.set_ylabel(\"Count\")\n",
    "axs.set_title(\"Output Probability Histogram on Training Data\")\n",
    "plt.show()"
   ]
  },
  {
   "cell_type": "markdown",
   "metadata": {},
   "source": [
    "If we take the regression prediction as probability of having Cancer Type 1, it is not clear how we will determine the presence of having cancer type 1 - is it 1-probability of Cancer type 1? We will also not be able to interpret response values $> 1$ or $< 0$."
   ]
  },
  {
   "cell_type": "markdown",
   "metadata": {},
   "source": [
    "**2.2:** The fitted linear regression model can be converted to a classification model (i.e. a model that predicts one of two binary classes 0 or 1) by classifying patients with predicted score greater than 0.5 into `Cancer_type`=1, and the others into the `Cancer_type`=0. Evaluate the classification accuracy of the obtained classification model on both the training and test sets."
   ]
  },
  {
   "cell_type": "code",
   "execution_count": 53,
   "metadata": {},
   "outputs": [
    {
     "name": "stdout",
     "output_type": "stream",
     "text": [
      "train score: 0.80, test score: 0.76\n"
     ]
    }
   ],
   "source": [
    "train_score = accuracy_score(y_train, y_train_pred>0.5)\n",
    "test_score = accuracy_score(y_test, y_test_pred>0.5)\n",
    "print(\"train score: {0:.2f}, test score: {1:.2f}\".format(train_score, test_score))"
   ]
  },
  {
   "cell_type": "markdown",
   "metadata": {},
   "source": [
    "**2.3:**  Next, fit a simple logistic regression model to the training set. How do the training and test classification accuracies of this model compare with the linear regression model? If there are no substantial differences, why do you think this happens?"
   ]
  },
  {
   "cell_type": "code",
   "execution_count": 54,
   "metadata": {},
   "outputs": [
    {
     "name": "stdout",
     "output_type": "stream",
     "text": [
      "train score: 0.80, test score: 0.76\n"
     ]
    }
   ],
   "source": [
    "logreg = LogisticRegression(C=100000, fit_intercept=False)\n",
    "logreg.fit(single_x_train, y_train) \n",
    "\n",
    "y_train_pred_logreg = logreg.predict(single_x_train)\n",
    "y_test_pred_logreg = logreg.predict(single_x_test)\n",
    "\n",
    "y_train_pred_logreg_prob = logreg.predict_proba(single_x_train)[:,1]\n",
    "y_test_pred_logreg_prob = logreg.predict_proba(single_x_test)[:,1]\n",
    "\n",
    "train_score_logreg = accuracy_score(y_train, y_train_pred_logreg)\n",
    "test_score_logreg = accuracy_score(y_test, y_test_pred_logreg)\n",
    "\n",
    "print(\"train score: {0:.2f}, test score: {1:.2f}\".format(train_score_logreg, test_score_logreg))"
   ]
  },
  {
   "cell_type": "markdown",
   "metadata": {},
   "source": [
    "Logistic regression gave the same accuracy as Linear Regression model. Classifications are going to always be similar (especially in simple models) with few points. "
   ]
  },
  {
   "cell_type": "markdown",
   "metadata": {},
   "source": [
    "**2.4:** Create a figure with 4 items displayed on the same plot:\n",
    "- the quantitative response from the linear regression model as a function of the gene predictor `D29963_at`.\n",
    "- the predicted probabilities of the logistic regression model as a function of the gene predictor `D29963_at`.  \n",
    "- the true binary response for the test set points for both models in the same plot. \n",
    "- a horizontal line at $y=0.5$. \n",
    "\n",
    "Based on these plots, does one of the models appear better suited for binary classification than the other?  Explain in 3 sentences or fewer. \n"
   ]
  },
  {
   "cell_type": "code",
   "execution_count": 57,
   "metadata": {},
   "outputs": [
    {
     "data": {
      "image/png": "[encoded data removed]",
      "text/plain": [
       "<Figure size 864x432 with 1 Axes>"
      ]
     },
     "metadata": {},
     "output_type": "display_data"
    }
   ],
   "source": [
    "plt.figure(figsize=(12,6))\n",
    "sort_index = np.argsort(x_test['D29963_at'].values)\n",
    "\n",
    "## plotting true binary response\n",
    "plt.scatter(x_test['D29963_at'].iloc[sort_index], y_test.iloc[sort_index], color='black', label = 'True Response')\n",
    "\n",
    "## plotting ols output\n",
    "plt.plot(x_test['D29963_at'].iloc[sort_index], y_test_pred.iloc[sort_index], color='red', alpha=0.3, \\\n",
    "         label = 'Linear Regression Predictions')\n",
    "\n",
    "## plotting logreg prob output\n",
    "plt.plot(x_test['D29963_at'].iloc[sort_index], y_test_pred_logreg_prob[sort_index], alpha=0.3,  \\\n",
    "         color='green', label = 'Logistic Regression Predictions Prob')\n",
    "\n",
    "plt.axhline(0.5, c='c')\n",
    "plt.legend()\n",
    "plt.title('True response v/s obtained responses')\n",
    "plt.xlabel('Gene predictor value')\n",
    "plt.ylabel('Cancer type response');"
   ]
  },
  {
   "cell_type": "markdown",
   "metadata": {},
   "source": [
    "Both models give similar outputs as can be observed from the plot above. However, we can see that Linear regression output goes below 0 and above 1 in some cases, whereas Logistic regression outputs are probability values between 0 and 1."
   ]
  },
  {
   "cell_type": "markdown",
   "metadata": {},
   "source": [
    "## Multiple Logistic Regression "
   ]
  },
  {
   "cell_type": "code",
   "execution_count": 58,
   "metadata": {},
   "outputs": [],
   "source": [
    "## --------  visualize_prob\n",
    "## A function to visualize the probabilities predicted by a Logistic Regression model\n",
    "## Input: \n",
    "##      model (Logistic regression model)\n",
    "##      x (n x d array of predictors in training data)\n",
    "##      y (n x 1 array of response variable vals in training data: 0 or 1)\n",
    "##      ax (an axis object to generate the plot)\n",
    "\n",
    "def visualize_prob(model, x, y, ax):\n",
    "    ## Use the model to predict probabilities for x\n",
    "    y_pred = model.predict_proba(x)\n",
    "    \n",
    "    ## Separate the predictions on the label 1 and label 0 points\n",
    "    ypos = y_pred[y==1]\n",
    "    yneg = y_pred[y==0]\n",
    "    \n",
    "    ## Count the number of label 1 and label 0 points\n",
    "    npos = ypos.shape[0]\n",
    "    nneg = yneg.shape[0]\n",
    "    \n",
    "    ## Plot the probabilities on a vertical line at x = 0, \n",
    "    ## with the positive points in blue and negative points in red\n",
    "    pos_handle = ax.plot(np.zeros((npos,1)), ypos[:,1], 'bo', label = 'Cancer Type 1')\n",
    "    neg_handle = ax.plot(np.zeros((nneg,1)), yneg[:,1], 'ro', label = 'Cancer Type 0')\n",
    "\n",
    "    ## Line to mark prob 0.5\n",
    "    ax.axhline(y = 0.5, color = 'k', linestyle = '--')\n",
    "    \n",
    "    ## Add y-label and legend, do not display x-axis, set y-axis limit\n",
    "    ax.set_ylabel('Probability of AML class')\n",
    "    ax.legend(loc = 'best')\n",
    "    ax.get_xaxis().set_visible(False)\n",
    "    ax.set_ylim([0,1])"
   ]
  },
  {
   "cell_type": "markdown",
   "metadata": {},
   "source": [
    "**3.1:** Next, fit a multiple logistic regression model with all the gene predictors from the data set. How does the classification accuracy of this model compare with the models fitted in question 2 with a single gene (on both the training and test sets)?"
   ]
  },
  {
   "cell_type": "code",
   "execution_count": 61,
   "metadata": {},
   "outputs": [
    {
     "name": "stdout",
     "output_type": "stream",
     "text": [
      "Training set accuracy for multiple logistic regression: 1.00\n",
      "Test set accuracy for multiple logistic regression: 1.00\n"
     ]
    }
   ],
   "source": [
    "all_x_train = x_train \n",
    "all_x_test = x_test \n",
    "\n",
    "## fitting multi regression model\n",
    "multi_regr = LogisticRegression(C=100000, solver = \"lbfgs\")\n",
    "multi_regr.fit(all_x_train, y_train)\n",
    "\n",
    "y_train_pred_multi = multi_regr.predict(all_x_train) \n",
    "y_test_pred_multi = multi_regr.predict(all_x_test)\n",
    "\n",
    "train_score_multi = accuracy_score(y_train, y_train_pred_multi)\n",
    "test_score_multi = accuracy_score(y_test, y_test_pred_multi)\n",
    "\n",
    "print('Training set accuracy for multiple logistic regression: {:.2f}'.format(train_score_multi))\n",
    "print('Test set accuracy for multiple logistic regression: {:.2f}'.format(test_score_multi))"
   ]
  },
  {
   "cell_type": "markdown",
   "metadata": {},
   "source": [
    "The multiple logistic regression accuracy for both train and test sets are perfect at 100%. This is an improvement from the Logistic regression accuracy with single predictors. However, the moral of the story here is that (1) because of the shortage of training samples, we are overfitting to noise in the training, and (2) because of the shortage of test samples and the high dimensionality of the data, we have no way of ascertaining the generalization capacity of any trained model - which could mislead us into a false sense of security on the accuracy of the model as a whole. "
   ]
  },
  {
   "cell_type": "markdown",
   "metadata": {},
   "source": [
    "<font color='red'>\n",
    "    \n",
    "**3.2** How many of the coefficients estimated by this multiple logistic regression in the previous part are significantly different from zero at a *significance level of 5%*? Use the same value of C=100000 as before.\n",
    "\n",
    "**Hint:** To answer this question, use *bootstrapping* with 1000 boostrap samples/iterations.  \n",
    "</font>"
   ]
  },
  {
   "cell_type": "code",
   "execution_count": 62,
   "metadata": {},
   "outputs": [],
   "source": [
    "## bootstrapping code\n",
    "n = 1000 \n",
    "boot_coefs = np.zeros((all_x_train.shape[1],n)) # Create empty storage array for later use\n",
    "\n",
    "## iteration for each sample\n",
    "for i in range(n):\n",
    "    # Sampling WITH replacement the indices of a resampled dataset \n",
    "    sample_index = np.random.choice(range(y_train.shape[0]), size=y_train.shape[0], replace=True)\n",
    "\n",
    "    # finding subset\n",
    "    x_train_samples = all_x_train.values[sample_index]\n",
    "    y_train_samples = y_train.values[sample_index]\n",
    "    \n",
    "    # finding logreg coefficient\n",
    "    logistic_mod_boot = LogisticRegression(C=100000, fit_intercept=True, solver = \"lbfgs\") \n",
    "    logistic_mod_boot.fit(x_train_samples, y_train_samples) \n",
    "    boot_coefs[:,i] = logistic_mod_boot.coef_"
   ]
  },
  {
   "cell_type": "code",
   "execution_count": 63,
   "metadata": {},
   "outputs": [
    {
     "name": "stdout",
     "output_type": "stream",
     "text": [
      "Significant coefficents at 5pct level = 1878 / 7129\n"
     ]
    }
   ],
   "source": [
    "ci_upper = np.percentile(boot_coefs, 97.5, axis=1)\n",
    "ci_lower = np.percentile(boot_coefs, 2.5, axis=1)\n",
    "\n",
    "# ct significant predictors\n",
    "sig_b_ct = 0\n",
    "sig_preds = []\n",
    "cols = list(x_train.columns)\n",
    "\n",
    "# if ci contains 0, then insignificant\n",
    "for i in range(len(ci_upper)):\n",
    "    if ci_upper[i]<=0 or ci_lower[i]>=0:\n",
    "        sig_b_ct += 1\n",
    "        sig_preds.append(cols[i])\n",
    "\n",
    "print(\"Significant coefficents at 5pct level = %i / %i\" % (sig_b_ct, len(ci_upper)))"
   ]
  },
  {
   "cell_type": "markdown",
   "metadata": {},
   "source": [
    "Thus, we can see that only 1878 out of 7130 predictors are significantly different from 0 at a significance level of 5%."
   ]
  },
  {
   "cell_type": "markdown",
   "metadata": {},
   "source": [
    "**3.3** Use the `visualize_prob` function provided below (or any other visualization) to visualize the probabilties predicted by the fitted multiple logistic regression model on both the training and test data sets. The function creates a visualization that places the data points on a vertical line based on the predicted probabilities, with the different cancer classes shown in different colors, and with the 0.5 threshold highlighted using a dotted horizontal line. Is there a difference in the spread of probabilities in the training and test plots? Are there data points for which the predicted probability is close to 0.5? If so, what can you say about these points?"
   ]
  },
  {
   "cell_type": "code",
   "execution_count": 64,
   "metadata": {},
   "outputs": [
    {
     "data": {
      "image/png": "[encoded data removed]",
      "text/plain": [
       "<Figure size 864x432 with 2 Axes>"
      ]
     },
     "metadata": {},
     "output_type": "display_data"
    }
   ],
   "source": [
    "\"\"\" Plot classification model \"\"\"\n",
    "fig = plt.figure(figsize=(12,6))\n",
    "ax1 = fig.add_subplot(121)\n",
    "ax2 = fig.add_subplot(122)\n",
    "\n",
    "## visualising train set fit\n",
    "visualize_prob(multi_regr, all_x_train, y_train, ax1)\n",
    "ax1.set_title('training set')\n",
    "\n",
    "## visualising test set fit\n",
    "visualize_prob(multi_regr, all_x_test, y_test, ax2)\n",
    "ax2.set_title('test set');"
   ]
  },
  {
   "cell_type": "markdown",
   "metadata": {},
   "source": [
    "Difference in spread of probability - In the training set the predicted AML values are 1 and predicted ALL values are 0. In the test set, the probabilities are spread above 0.5 but closer to 0 for points below 0.5. There are data points for which probability is close to 0.5, indicating that it cannot be determined clearly which type of cancer the patient has. They may give false positives or false negatives.\n"
   ]
  },
  {
   "cell_type": "markdown",
   "metadata": {},
   "source": [
    "**3.4** Given the results above how would you assest the generalization capacity of your trained model? What other tests would you suggest to better guard against false sense of security on the accuracy of the model as a whole. \n",
    "\n",
    "**Answer:** Cross validation "
   ]
  },
  {
   "cell_type": "markdown",
   "metadata": {},
   "source": [
    "## PCR: Principal Components Regression\n",
    "\n",
    "High dimensional problems can lead to problematic behavior in model estimation (and make prediction on a test set worse), thus we often want to try to reduce the dimensionality of our problems. A reasonable approach to reduce the dimensionality of the data is to use PCA and fit a logistic regression model on the smallest set of principal components that explain at least 90% of the variance in the predictors."
   ]
  },
  {
   "cell_type": "markdown",
   "metadata": {},
   "source": [
    "**4.1** Fit two separate Logistic Regression models using principal components as the predictors: (1) with the number of components you selected from problem 1.5 and (2) with the number of components that explain at least 90% of the variability in the feature set. How do the classification accuracy values on both the training and tests sets compare with the models fit in question 3?"
   ]
  },
  {
   "cell_type": "code",
   "execution_count": 65,
   "metadata": {},
   "outputs": [
    {
     "name": "stdout",
     "output_type": "stream",
     "text": [
      "Training set accuracy for Logistic Regression with PCA = 1.00\n",
      "Test set accuracy for Logistic Regression with PCA = 0.94\n"
     ]
    }
   ],
   "source": [
    "## Applying PCA \n",
    "pca = PCA(n_components=29) # from our result in 1.5\n",
    "pca.fit(x_train)\n",
    "\n",
    "## transforming train and test data for regression\n",
    "x_train_pca = pca.transform(x_train)\n",
    "x_test_pca = pca.transform(x_test)\n",
    "\n",
    "logreg_pca = LogisticRegression(C=100000, fit_intercept=False)\n",
    "logreg_pca.fit(x_train_pca, y_train)\n",
    "\n",
    "y_train_pred_logreg_pca = logreg_pca.predict(x_train_pca)\n",
    "y_test_pred_logreg_pca = logreg_pca.predict(x_test_pca)\n",
    "\n",
    "train_score_logreg_pca = accuracy_score(y_train, y_train_pred_logreg_pca)\n",
    "test_score_logreg_pca = accuracy_score(y_test, y_test_pred_logreg_pca)\n",
    "\n",
    "print('Training set accuracy for Logistic Regression with PCA = {:.2f}'.format(train_score_logreg_pca))\n",
    "print('Test set accuracy for Logistic Regression with PCA = {:.2f}'.format(test_score_logreg_pca))"
   ]
  },
  {
   "cell_type": "markdown",
   "metadata": {},
   "source": [
    "1. The first 20 principal components explain 90.26% of the total variance in data. <br/>\n",
    "2. Logistic Regression on PCA components gives 100% train accuracy and 96.96% test accuracy. The train accuracy here is same as LogReg in 3.1 but test accuracy is slightly less tha Logreg. Since PCA components only explain 90% of the data, this makes intuitive sense. <br/>"
   ]
  },
  {
   "cell_type": "markdown",
   "metadata": {},
   "source": [
    "**4.2:** Use the code provided in question 3 to visualize the probabilities predicted by the fitted models on both the training and test sets. How does the spread of probabilities in these plots compare to those for the model in question 3.2? If the lower dimensional representation yields comparable predictive power, what advantage does the lower dimensional representation provide?"
   ]
  },
  {
   "cell_type": "code",
   "execution_count": 67,
   "metadata": {},
   "outputs": [
    {
     "data": {
      "image/png": "[encoded data removed]",
      "text/plain": [
       "<Figure size 864x432 with 2 Axes>"
      ]
     },
     "metadata": {},
     "output_type": "display_data"
    }
   ],
   "source": [
    "fig = plt.figure(figsize=(12,6))\n",
    "ax1 = fig.add_subplot(121)\n",
    "ax2 = fig.add_subplot(122)\n",
    "\n",
    "## visualising train set fit\n",
    "visualize_prob(logreg_pca, x_train_pca, y_train, ax1)\n",
    "ax1.set_title('training set')\n",
    "\n",
    "## visualising test set fit\n",
    "visualize_prob(logreg_pca, x_test_pca, y_test, ax2)\n",
    "ax2.set_title('test set');"
   ]
  },
  {
   "cell_type": "markdown",
   "metadata": {},
   "source": [
    "The spread of probabilities of the PCA model for the training set seems exactly the same as that for multiple logistic regression. In the case of the test set, cancer type 1 probabilities are closer to 1, which can be interpreted as greater certainty for Cancer type 1. Cancer type 0, on the other hand, shows greater spread in the PCA case as compared to the multiple logreg case. There are also cases where Cancer 0 is wrongly classified as Cancer 1, which was absent previously. <br/>\n",
    "\n",
    "In summary, although the lower dimensional representation yields similar performance as the original multilog model, the computational cost is far lower due the order-of-magnitude difference in the number of features in the PCA-transformed data. It is also worth noting that while the PCA-transformed data has far fewer features than we did originally, this does not necessarily imply that this transformed dataset is more interpretable - the value of each principal component for a datapoint is yielded by a linear combination of the values of all of the original features."
   ]
  },
  {
   "cell_type": "code",
   "execution_count": 69,
   "metadata": {},
   "outputs": [],
   "source": [
    "## --------  visualize_prob\n",
    "## A function to visualize the probabilities predicted by a Logistic Regression model\n",
    "## Input: \n",
    "##      model (Logistic regression model)\n",
    "##      x (n x d array of predictors in training data)\n",
    "##      y (n x 1 array of response variable vals in training data: 0 or 1)\n",
    "##      ax (an axis object to generate the plot)\n",
    "\n",
    "def visualize_prob_2(model1, model2, x1, y1, x2, y2, ax):\n",
    "    # Use the model to predict probabilities for x\n",
    "    y1_pred = model1.predict_proba(x1)\n",
    "    y2_pred = model2.predict_proba(x2)\n",
    "    \n",
    "    # Separate the predictions on the label 1 and label 0 points\n",
    "    ypos1 = y1_pred[y1==1]\n",
    "    yneg1 = y1_pred[y1==0]\n",
    "    ypos2 = y2_pred[y2==1]\n",
    "    yneg2 = y2_pred[y2==0]\n",
    "    \n",
    "    # Count the number of label 1 and label 0 points\n",
    "    npos1 = ypos1.shape[0]\n",
    "    nneg1 = yneg1.shape[0]\n",
    "    npos2 = ypos2.shape[0]\n",
    "    nneg2 = yneg2.shape[0]\n",
    "    \n",
    "    # Plot the probabilities on a vertical line at x = 0, \n",
    "    # with the positive points in blue and negative points in red\n",
    "    pos_handle = ax.plot(np.zeros((npos1,1))-0.1, ypos1[:,1], 'bo', label = 'MultReg Cancer Type 1')\n",
    "    neg_handle = ax.plot(np.zeros((nneg1,1))-0.1, yneg1[:,1], 'ro', label = 'MultReg Cancer Type 0')\n",
    "    pos_handle = ax.plot(np.zeros((npos1,1))+.1, ypos2[:,1], 'go', label = 'PCA Cancer Type 1')\n",
    "    neg_handle = ax.plot(np.zeros((nneg1,1))+.1, yneg2[:,1], 'mo', label = 'PCA Cancer Type 0')\n",
    "\n",
    "    # Line to mark prob 0.5\n",
    "    ax.axhline(y = 0.5, color = 'k', linestyle = '--')\n",
    "    \n",
    "    # Add y-label and legend, do not display x-axis, set y-axis limit\n",
    "    ax.set_ylabel('Probability of AML class')\n",
    "    ax.legend(loc = 2)\n",
    "    ax.get_xaxis().set_visible(False)\n",
    "    ax.set_ylim([0,1])\n",
    "    ax.set_xlim([-1,1])"
   ]
  },
  {
   "cell_type": "markdown",
   "metadata": {},
   "source": [
    "We also present the above plot juxtaposed with our multireg classification for convenience:"
   ]
  },
  {
   "cell_type": "code",
   "execution_count": 70,
   "metadata": {},
   "outputs": [
    {
     "data": {
      "image/png": "[encoded data removed]",
      "text/plain": [
       "<Figure size 864x432 with 2 Axes>"
      ]
     },
     "metadata": {},
     "output_type": "display_data"
    }
   ],
   "source": [
    "fig = plt.figure(figsize=(12,6))\n",
    "ax1 = fig.add_subplot(121)\n",
    "ax2 = fig.add_subplot(122)\n",
    "\n",
    "## visualising train set fit\n",
    "visualize_prob_2(multi_regr, logreg_pca, all_x_train, y_train, x_train_pca, y_train, ax1)\n",
    "ax1.set_title('training set')\n",
    "\n",
    "## visualising test set fit\n",
    "visualize_prob_2(multi_regr, logreg_pca, all_x_test, y_test, x_test_pca, y_test, ax2)\n",
    "ax2.set_title('test set')\n",
    "plt.show()"
   ]
  }
 ],
 "metadata": {
  "anaconda-cloud": {},
  "kernelspec": {
   "display_name": "Python 3",
   "language": "python",
   "name": "python3"
  },
  "language_info": {
   "codemirror_mode": {
    "name": "ipython",
    "version": 3
   },
   "file_extension": ".py",
   "mimetype": "text/x-python",
   "name": "python",
   "nbconvert_exporter": "python",
   "pygments_lexer": "ipython3",
   "version": "3.6.7"
  }
 },
 "nbformat": 4,
 "nbformat_minor": 2
}
