{
 "cells": [
  {
   "cell_type": "markdown",
   "metadata": {},
   "source": [
    "# H15"
   ]
  },
  {
   "cell_type": "code",
   "execution_count": 1,
   "metadata": {},
   "outputs": [
    {
     "data": {
      "text/html": [
       "<style>\n",
       "blockquote { background: #AEDE94; }\n",
       "h1 { \n",
       "    padding-top: 25px;\n",
       "    padding-bottom: 25px;\n",
       "    text-align: left; \n",
       "    padding-left: 10px;\n",
       "    background-color: #DDDDDD; \n",
       "    color: black;\n",
       "}\n",
       "h2 { \n",
       "    padding-top: 10px;\n",
       "    padding-bottom: 10px;\n",
       "    text-align: left; \n",
       "    padding-left: 5px;\n",
       "    background-color: #EEEEEE; \n",
       "    color: black;\n",
       "}\n",
       "\n",
       "div.exercise {\n",
       "\tbackground-color: #ffcccc;\n",
       "\tborder-color: #E9967A; \t\n",
       "\tborder-left: 5px solid #800080; \n",
       "\tpadding: 0.5em;\n",
       "}\n",
       "\n",
       "span.sub-q {\n",
       "\tfont-weight: bold;\n",
       "}\n",
       "div.theme {\n",
       "\tbackground-color: #DDDDDD;\n",
       "\tborder-color: #E9967A; \t\n",
       "\tborder-left: 5px solid #800080; \n",
       "\tpadding: 0.5em;\n",
       "\tfont-size: 18pt;\n",
       "}\n",
       "div.gc { \n",
       "\tbackground-color: #AEDE94;\n",
       "\tborder-color: #E9967A; \t \n",
       "\tborder-left: 5px solid #800080; \n",
       "\tpadding: 0.5em;\n",
       "\tfont-size: 12pt;\n",
       "}\n",
       "p.q1 { \n",
       "    padding-top: 5px;\n",
       "    padding-bottom: 5px;\n",
       "    text-align: left; \n",
       "    padding-left: 5px;\n",
       "    background-color: #EEEEEE; \n",
       "    color: black;\n",
       "}\n",
       "header {\n",
       "   padding-top: 35px;\n",
       "    padding-bottom: 35px;\n",
       "    text-align: left; \n",
       "    padding-left: 10px;\n",
       "    background-color: #DDDDDD; \n",
       "    color: black;\n",
       "}\n",
       "</style>\n",
       "\n"
      ],
      "text/plain": [
       "<IPython.core.display.HTML object>"
      ]
     },
     "execution_count": 1,
     "metadata": {},
     "output_type": "execute_result"
    }
   ],
   "source": [
    "import requests\n",
    "from IPython.core.display import HTML\n",
    "styles = requests.get(\"https://raw.githubusercontent.com/Harvard-IACS/2018-CS109A/master/content/styles/cs109.css\").text\n",
    "HTML(styles)"
   ]
  },
  {
   "cell_type": "code",
   "execution_count": 2,
   "metadata": {},
   "outputs": [],
   "source": [
    "import warnings\n",
    "warnings.filterwarnings('ignore')\n",
    "\n",
    "import os\n",
    "os.environ['R_HOME'] = \"/usr/share/anaconda3/lib/R\""
   ]
  },
  {
   "cell_type": "code",
   "execution_count": 3,
   "metadata": {},
   "outputs": [],
   "source": [
    "import pyjags\n",
    "import pandas as pd\n",
    "from rpy2.robjects.packages import importr\n",
    "r_utils = importr('utils')\n",
    "import numpy as np\n",
    "%matplotlib inline \n",
    "import matplotlib.pyplot as plt\n",
    "import rpy2\n",
    "from rpy2.robjects import pandas2ri\n",
    "pandas2ri.activate()\n",
    "r_coda = importr('coda')\n",
    "from sklearn.feature_extraction.text import CountVectorizer\n",
    "from gensim.corpora import Dictionary\n",
    "from gensim.models.ldamodel import LdaModel\n",
    "from gensim.models import CoherenceModel\n",
    "from nltk.corpus import stopwords\n",
    "from nltk.tokenize import RegexpTokenizer\n",
    "from datetime import datetime\n",
    "from scipy.special import expit"
   ]
  },
  {
   "cell_type": "code",
   "execution_count": 4,
   "metadata": {},
   "outputs": [],
   "source": [
    "from collections import Counter\n",
    "\n",
    "pd.set_option('display.width', 500)\n",
    "pd.set_option('display.max_columns', 100)\n",
    "pd.set_option('display.notebook_repr_html', True)"
   ]
  },
  {
   "cell_type": "markdown",
   "metadata": {},
   "source": [
    "## Latent Dirichlet Allocation\n",
    "\n",
    "In the first part of this assignment, you will be working with text from the @realDonaldTrump Twitter account. This consists of all tweets from the account from 5/4/2009 to 2/26/2019. The goal is to use Latent Dirichlet Allocation in order to model the topics tweeted about since President Trump's inauguration.\n",
    "\n",
    "The dataset is from http://www.trumptwitterarchive.com/archive."
   ]
  },
  {
   "cell_type": "markdown",
   "metadata": {},
   "source": [
    "Start by reading the dataset into a pandas data frame."
   ]
  },
  {
   "cell_type": "code",
   "execution_count": 5,
   "metadata": {},
   "outputs": [],
   "source": [
    "df = pd.read_csv(\"data/trump_tweets.csv\")"
   ]
  },
  {
   "cell_type": "markdown",
   "metadata": {},
   "source": [
    "Now, extract only the rows since President Trump's inauguration on January 20, 2017 (you can use midnight on that date as the start time). You should use the datetime.strptime to convert dates to type `datetime`. Hint: first, you should remove any rows with missing timestamps."
   ]
  },
  {
   "cell_type": "code",
   "execution_count": 6,
   "metadata": {},
   "outputs": [],
   "source": [
    "df_clean = df.dropna(axis=0, how='any')\n",
    "df_clean['created_at'] = pd.to_datetime(df_clean['created_at'], format='%m-%d-%Y %H:%M:%S')\n",
    "df_clean = df_clean[df_clean.created_at >= \"01-20-2017 00:00:00\"]"
   ]
  },
  {
   "cell_type": "markdown",
   "metadata": {},
   "source": [
    "Preprocess the data by making it all lowercase. Remove a reasonable set of stopwords from the dataset and tokenize. Then, report the 50 most common words and their count. You may need to iterate this process, adding some stop words as you understand the structure of the data. Justify additional stop words you've added.\n"
   ]
  },
  {
   "cell_type": "code",
   "execution_count": 7,
   "metadata": {
    "scrolled": true
   },
   "outputs": [
    {
     "name": "stderr",
     "output_type": "stream",
     "text": [
      "[nltk_data] Downloading package stopwords to\n",
      "[nltk_data]     /home/71387712/nltk_data...\n",
      "[nltk_data]   Package stopwords is already up-to-date!\n"
     ]
    }
   ],
   "source": [
    "import nltk\n",
    "nltk.download('stopwords')\n",
    "tokenizer = RegexpTokenizer(r'[\\w\\']+') # \\w means any letter or digit. "
   ]
  },
  {
   "cell_type": "code",
   "execution_count": 8,
   "metadata": {},
   "outputs": [
    {
     "data": {
      "text/plain": [
       "[('co', 2240),\n",
       " ('https', 2232),\n",
       " ('great', 1518),\n",
       " ('amp', 1152),\n",
       " ('rt', 1015),\n",
       " ('people', 789),\n",
       " ('president', 642),\n",
       " ('trump', 599),\n",
       " ('country', 568),\n",
       " ('news', 550),\n",
       " ('u', 512),\n",
       " ('fake', 495),\n",
       " ('big', 481),\n",
       " ('thank', 467),\n",
       " ('border', 467),\n",
       " ('democrats', 465),\n",
       " ('many', 464),\n",
       " ('today', 435),\n",
       " ('america', 416),\n",
       " ('get', 407),\n",
       " ('time', 394),\n",
       " ('new', 372),\n",
       " ('much', 338),\n",
       " ('would', 336),\n",
       " ('american', 335),\n",
       " ('realdonaldtrump', 328),\n",
       " ('good', 316),\n",
       " ('want', 316),\n",
       " ('years', 302),\n",
       " ('must', 302),\n",
       " ('never', 300),\n",
       " ('media', 295),\n",
       " ('security', 293),\n",
       " ('back', 287),\n",
       " ('vote', 284),\n",
       " ('wall', 283),\n",
       " ('one', 280),\n",
       " ('make', 278),\n",
       " ('jobs', 276),\n",
       " ('military', 272),\n",
       " ('united', 265),\n",
       " ('trade', 261),\n",
       " ('house', 260),\n",
       " ('states', 255),\n",
       " ('tax', 253),\n",
       " ('first', 251),\n",
       " ('job', 250),\n",
       " ('going', 247),\n",
       " ('election', 246),\n",
       " ('crime', 246)]"
      ]
     },
     "execution_count": 8,
     "metadata": {},
     "output_type": "execute_result"
    }
   ],
   "source": [
    "# Preprocess the data by default stop words\n",
    "stop_words = set(stopwords.words('english'))\n",
    "df_clean['text_clean'] = df_clean.text.str.lower()\n",
    "df_clean['text_clean'] = df_clean['text_clean'].apply(tokenizer.tokenize)\n",
    "df_clean['text_clean'] = df_clean['text_clean'].apply(lambda x: [cur_word for cur_word in x if cur_word not in stop_words])\n",
    "\n",
    "# Show the top 50 common words \n",
    "total_counter = Counter()\n",
    "for words in df_clean['text_clean']:\n",
    "    word_count = Counter(words)\n",
    "    total_counter += word_count\n",
    "    \n",
    "total_counter.most_common(50)"
   ]
  },
  {
   "cell_type": "markdown",
   "metadata": {},
   "source": [
    "Justification: \n",
    "- There are some abbreviation words that show up as most common words, for example co, amp, u, rt, which do not carry any real meanings, so we decide to drop those words.\n",
    "- @realDonaldTrump is the twitter account name, so we decide to drop it. \n",
    "- We noticed that 'Trump' is also a common word and it's Donald Trump's last name, but we decided to keep it because there are many other names show as common words like 'Obama' and 'Clinton'. These names do carry real meanings, so we kept them. \n",
    "- 'Great' as a word by itself carries positive meanings, but we decided to drop it since it almost appears in every Trump's tweet. "
   ]
  },
  {
   "cell_type": "code",
   "execution_count": 9,
   "metadata": {
    "scrolled": false
   },
   "outputs": [
    {
     "data": {
      "text/plain": [
       "[('people', 789),\n",
       " ('president', 642),\n",
       " ('trump', 599),\n",
       " ('country', 568),\n",
       " ('news', 550),\n",
       " ('fake', 495),\n",
       " ('big', 481),\n",
       " ('thank', 467),\n",
       " ('border', 467),\n",
       " ('democrats', 465),\n",
       " ('many', 464),\n",
       " ('today', 435),\n",
       " ('america', 416),\n",
       " ('get', 407),\n",
       " ('time', 394),\n",
       " ('new', 372),\n",
       " ('much', 338),\n",
       " ('would', 336),\n",
       " ('american', 335),\n",
       " ('good', 316),\n",
       " ('want', 316),\n",
       " ('years', 302),\n",
       " ('must', 302),\n",
       " ('never', 300),\n",
       " ('media', 295),\n",
       " ('security', 293),\n",
       " ('back', 287),\n",
       " ('vote', 284),\n",
       " ('wall', 283),\n",
       " ('one', 280),\n",
       " ('make', 278),\n",
       " ('jobs', 276),\n",
       " ('military', 272),\n",
       " ('united', 265),\n",
       " ('trade', 261),\n",
       " ('house', 260),\n",
       " ('states', 255),\n",
       " ('tax', 253),\n",
       " ('first', 251),\n",
       " ('job', 250),\n",
       " ('going', 247),\n",
       " ('election', 246),\n",
       " ('crime', 246),\n",
       " ('even', 245),\n",
       " ('state', 245),\n",
       " ('russia', 241),\n",
       " ('fbi', 238),\n",
       " ('done', 237),\n",
       " ('day', 234),\n",
       " ('working', 221)]"
      ]
     },
     "execution_count": 9,
     "metadata": {},
     "output_type": "execute_result"
    }
   ],
   "source": [
    "## Preprocess the data by default stop words + Trump-specific words \n",
    "stop_words = set(stopwords.words('english'))\n",
    "stop_words.update(['co', 'https', 'amp', 'rt', 'u', 'realdonaldtrump', 'great'])\n",
    "df_clean['text_clean'] = df_clean.text.str.lower()\n",
    "df_clean['text_clean'] = df_clean['text_clean'].apply(tokenizer.tokenize)\n",
    "df_clean['text_clean'] = df_clean['text_clean'].apply(lambda x: [cur_word for cur_word in x if cur_word not in stop_words])\n",
    "\n",
    "## Show the top 50 common words \n",
    "total_counter = Counter()\n",
    "for words in df_clean['text_clean']:\n",
    "    word_count = Counter(words)\n",
    "    total_counter += word_count\n",
    "    \n",
    "total_counter.most_common(50)"
   ]
  },
  {
   "cell_type": "markdown",
   "metadata": {},
   "source": [
    "Find the optimal number of topics using the `u_mass` coherence measure. Plot the results; what does this plot suggest about the number of topics in the text?"
   ]
  },
  {
   "cell_type": "code",
   "execution_count": 10,
   "metadata": {},
   "outputs": [],
   "source": [
    "masterdictionary = Dictionary(df_clean['text_clean'])\n",
    "mastercorpus = [masterdictionary.doc2bow(doc) for doc in df_clean['text_clean']]"
   ]
  },
  {
   "cell_type": "code",
   "execution_count": 11,
   "metadata": {},
   "outputs": [],
   "source": [
    "coherence_vals = []\n",
    "for ntop in range(1, 10):\n",
    "    mod = LdaModel(mastercorpus, num_topics=ntop, id2word=masterdictionary, passes=5, random_state=1)\n",
    "    cmod = CoherenceModel(model=mod, corpus=mastercorpus, dictionary=masterdictionary, coherence='u_mass')\n",
    "    cval = cmod.get_coherence()\n",
    "    coherence_vals.append(cval)"
   ]
  },
  {
   "cell_type": "code",
   "execution_count": 12,
   "metadata": {
    "scrolled": false
   },
   "outputs": [
    {
     "data": {
      "image/png": "[encoded data removed]",
      "text/plain": [
       "<Figure size 792x504 with 1 Axes>"
      ]
     },
     "metadata": {
      "needs_background": "light"
     },
     "output_type": "display_data"
    }
   ],
   "source": [
    "fig, ax = plt.subplots(1, 1, figsize=(11, 7))\n",
    "ax.plot(range(1,10), coherence_vals)\n",
    "ax.set_title(\"Coherence Score vs Number of Topics\", fontsize=16)\n",
    "ax.set_xlabel(\"Number of Topics\", fontsize=16)\n",
    "ax.set_ylabel(\"Coherence Score\", fontsize=16)\n",
    "ax.tick_params(labelsize=16)"
   ]
  },
  {
   "cell_type": "markdown",
   "metadata": {},
   "source": [
    "The number of topics in the text:\n",
    "- The plot above suggests that there are 3 different topics in the text, as a value of k=3 maximized the coherence score. The results vary depending on the random seed though. "
   ]
  },
  {
   "cell_type": "markdown",
   "metadata": {},
   "source": [
    "Run LDA on the texts using the optimal value of $k$ found via your analysis above. Print out the top 10 words and associated betas for each of the $k$ topics. Comment on the results and their plausibility. What does each topic seem to represent?"
   ]
  },
  {
   "cell_type": "code",
   "execution_count": 13,
   "metadata": {},
   "outputs": [],
   "source": [
    "num_topics = 3\n",
    "model = LdaModel(mastercorpus, num_topics=num_topics, id2word=masterdictionary, passes=10, random_state=123)"
   ]
  },
  {
   "cell_type": "code",
   "execution_count": 14,
   "metadata": {},
   "outputs": [
    {
     "data": {
      "image/png": "[encoded data removed]",
      "text/plain": [
       "<Figure size 1440x504 with 3 Axes>"
      ]
     },
     "metadata": {
      "needs_background": "light"
     },
     "output_type": "display_data"
    }
   ],
   "source": [
    "top_words = [[word for word,_ in model.show_topic(topicno, topn=50)] for topicno in range(model.num_topics)]\n",
    "top_betas = [[beta for _,beta in model.show_topic(topicno, topn=50)] for topicno in range(model.num_topics)]\n",
    "\n",
    "gs = plt.GridSpec(1,3)\n",
    "gs.update(wspace=0.5, hspace=0.5)\n",
    "plt.figure(figsize=(20, 7))\n",
    "for i in range(num_topics):\n",
    "    ax = plt.subplot(gs[i])\n",
    "    plt.barh(range(10), top_betas[i][:10], align='center', color='blue', ecolor='black')\n",
    "    ax.invert_yaxis()\n",
    "    ax.set_yticks(range(10))\n",
    "    ax.set_yticklabels(top_words[i][:10])\n",
    "    ax.tick_params(labelsize=16)\n",
    "    plt.title(\"Topic \" + str(i + 1), fontsize=16)"
   ]
  },
  {
   "cell_type": "markdown",
   "metadata": {},
   "source": [
    "**Summary**: Topic 1 seems to represent the campaign and election by mentioning words of republican, vote and tax. Topic 2 has to deal with Trump's border security by key words of border, wall, and security. Topic 3 is all about fake news related to FBI investigation. Overall, it seems that LDA did a good job of captureing the latent topics that are embedded within Trump's tweets."
   ]
  }
 ],
 "metadata": {
  "kernelspec": {
   "display_name": "Python 3",
   "language": "python",
   "name": "python3"
  },
  "language_info": {
   "codemirror_mode": {
    "name": "ipython",
    "version": 3
   },
   "file_extension": ".py",
   "mimetype": "text/x-python",
   "name": "python",
   "nbconvert_exporter": "python",
   "pygments_lexer": "ipython3",
   "version": "3.6.7"
  },
  "toc": {
   "base_numbering": 1,
   "nav_menu": {},
   "number_sections": true,
   "sideBar": true,
   "skip_h1_title": false,
   "title_cell": "Table of Contents",
   "title_sidebar": "Contents",
   "toc_cell": false,
   "toc_position": {},
   "toc_section_display": true,
   "toc_window_display": false
  }
 },
 "nbformat": 4,
 "nbformat_minor": 2
}
