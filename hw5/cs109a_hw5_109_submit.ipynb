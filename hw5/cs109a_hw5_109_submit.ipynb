{
 "cells": [
  {
   "cell_type": "markdown",
   "metadata": {},
   "source": [
    "# <img style=\"float: left; padding-right: 10px; width: 45px\" src=\"https://raw.githubusercontent.com/Harvard-IACS/2018-CS109A/master/content/styles/iacs.png\"> CS109A Introduction to Data Science: \n",
    "\n",
    "## Homework 5: Logistic Regression, High Dimensionality and PCA\n",
    "\n",
    "\n",
    "**Harvard University**<br/>\n",
    "**Fall 2018**<br/>\n",
    "**Instructors**: Pavlos Protopapas, Kevin Rader\n",
    "\n",
    "<hr style=\"height:2pt\">\n",
    "\n"
   ]
  },
  {
   "cell_type": "code",
   "execution_count": 1,
   "metadata": {},
   "outputs": [
    {
     "data": {
      "text/html": [
       "<style>\n",
       "h1 { \n",
       "    padding-top: 25px;\n",
       "    padding-bottom: 25px;\n",
       "    text-align: left; \n",
       "    padding-left: 10px;\n",
       "    background-color: #DDDDDD; \n",
       "    color: black;\n",
       "}\n",
       "h2 { \n",
       "    padding-top: 10px;\n",
       "    padding-bottom: 10px;\n",
       "    text-align: left; \n",
       "    padding-left: 5px;\n",
       "    background-color: #EEEEEE; \n",
       "    color: black;\n",
       "}\n",
       "\n",
       "div.exercise {\n",
       "\tbackground-color: #ffcccc;\n",
       "\tborder-color: #E9967A; \t\n",
       "\tborder-left: 5px solid #800080; \n",
       "\tpadding: 0.5em;\n",
       "}\n",
       "div.theme {\n",
       "\tbackground-color: #DDDDDD;\n",
       "\tborder-color: #E9967A; \t\n",
       "\tborder-left: 5px solid #800080; \n",
       "\tpadding: 0.5em;\n",
       "\tfont-size: 18pt;\n",
       "}\n",
       "p.q1 { \n",
       "    padding-top: 5px;\n",
       "    padding-bottom: 5px;\n",
       "    text-align: left; \n",
       "    padding-left: 5px;\n",
       "    background-color: #EEEEEE; \n",
       "    color: black;\n",
       "}\n",
       "header {\n",
       "   padding-top: 35px;\n",
       "    padding-bottom: 35px;\n",
       "    text-align: left; \n",
       "    padding-left: 10px;\n",
       "    background-color: #DDDDDD; \n",
       "    color: black;\n",
       "}\n",
       "</style>\n",
       "\n"
      ],
      "text/plain": [
       "<IPython.core.display.HTML object>"
      ]
     },
     "execution_count": 1,
     "metadata": {},
     "output_type": "execute_result"
    }
   ],
   "source": [
    "#RUN THIS CELL \n",
    "import requests\n",
    "from IPython.core.display import HTML\n",
    "styles = requests.get(\"https://raw.githubusercontent.com/Harvard-IACS/2018-CS109A/master/content/styles/cs109.css\").text\n",
    "HTML(styles)"
   ]
  },
  {
   "cell_type": "markdown",
   "metadata": {},
   "source": [
    "### INSTRUCTIONS\n",
    "\n",
    "- To submit your assignment follow the instructions given in canvas  https://canvas.harvard.edu/courses/42693/pages/homework-policies-and-submission-instructions.\n",
    "- Restart the kernel and run the whole notebook again before you submit. \n",
    "- If you submit individually and you have worked with someone, please include the name of your [one] partner below. \n",
    "- As much as possible, try and stick to the hints and functions we import at the top of the homework, as those are the ideas and tools the class supports and is aiming to teach. And if a problem specifies a particular library you're required to use that library, and possibly others from the import list."
   ]
  },
  {
   "cell_type": "markdown",
   "metadata": {},
   "source": [
    "Names of people you have worked with goes here: Xi Han, Haoran Zhao"
   ]
  },
  {
   "cell_type": "markdown",
   "metadata": {},
   "source": [
    "<hr style=\"height:2pt\">"
   ]
  },
  {
   "cell_type": "code",
   "execution_count": 2,
   "metadata": {},
   "outputs": [],
   "source": [
    "import numpy as np\n",
    "import pandas as pd\n",
    "\n",
    "import statsmodels.api as sm\n",
    "from statsmodels.api import OLS\n",
    "\n",
    "from sklearn.decomposition import PCA\n",
    "from sklearn.linear_model import LogisticRegression\n",
    "from sklearn.linear_model import LogisticRegressionCV\n",
    "from sklearn.discriminant_analysis import LinearDiscriminantAnalysis\n",
    "from sklearn.discriminant_analysis import QuadraticDiscriminantAnalysis\n",
    "from sklearn.preprocessing import PolynomialFeatures\n",
    "from sklearn.neighbors import KNeighborsClassifier\n",
    "from sklearn.model_selection import cross_val_score\n",
    "from sklearn.metrics import accuracy_score\n",
    "from sklearn.model_selection import KFold\n",
    "from sklearn.preprocessing import MinMaxScaler\n",
    "\n",
    "import math\n",
    "from scipy.special import gamma\n",
    "\n",
    "import matplotlib\n",
    "import matplotlib.pyplot as plt\n",
    "%matplotlib inline\n",
    "\n",
    "import seaborn as sns\n",
    "sns.set()\n",
    "\n",
    "from IPython.display import display\n"
   ]
  },
  {
   "cell_type": "markdown",
   "metadata": {},
   "source": [
    "<div class='theme'> Cancer Classification from Gene Expressions </div>\n",
    "\n",
    "In this problem, we will build a classification model to distinguish between two related classes of cancer, acute lymphoblastic leukemia (ALL) and acute myeloid leukemia (AML), using gene expression measurements. The data set is provided in the file `data/dataset_hw5_1.csv`. Each row in this file corresponds to a tumor tissue sample from a patient with one of the two forms of Leukemia. The first column contains the cancer type, with 0 indicating the ALL class and 1 indicating the AML class. Columns 2-7130 contain expression levels of 7129 genes recorded from each tissue sample. \n",
    "\n",
    "In the following questions, we will use linear and logistic regression to build classification models for this data set. We will also use Principal Components Analysis (PCA) to reduce its dimensions. \n",
    "\n"
   ]
  },
  {
   "cell_type": "markdown",
   "metadata": {},
   "source": [
    "<div class='exercise'><b> Question 1 [25 pts]: Data Exploration </b></div>\n",
    "\n",
    "First step is to  split  the observations into an approximate 50-50 train-test split.  Below is some code to do this for you (we want to make sure everyone has the same splits).\n",
    "\n",
    "**1.1** Take a peek at your training set: you should notice the severe differences in the measurements from one gene to the next (some are negative, some hover around zero, and some are well into the thousands).  To account for these differences in scale and variability, normalize each predictor to vary between 0 and 1.\n",
    "\n",
    "**1.2** Notice that the resulting training set contains more predictors than observations. Do you foresee a problem in fitting a classification model to such a data set?  Explain in 3 or fewer sentences.\n",
    "\n",
    "**1.3** Let's explore a few of the genes and see how well they discriminate between cancer classes. Create a single figure with four subplots arranged in a 2x2 grid. Consider the following four genes: `D29963_at`, `M23161_at`, `hum_alu_at`, and `AFFX-PheX-5_at`. For each gene overlay two histograms of the gene expression values on one of the subplots, one histogram for each cancer type. Does it appear that any of these genes discriminate between the two classes well? How are you able to tell?\n",
    "\n",
    "**1.4** Since our data has dimensions that are not easily visualizable, we want to reduce the dimensionality of the data to make it easier to visualize. Using PCA, find the top two principal components for the gene expression data. Generate a scatter plot using these principal components, highlighting the two cancer types in different colors and different markers ('x' vs 'o', for example). How well do the top two principal components discriminate between the two classes? How much of the variance within the predictor set do these two principal components explain? \n",
    "\n",
    "**1.5** Plot the cumulative variance explained in the feature set as a function of the number of PCA-components (up to the first 50 components).  Do you feel 2 components is enough, and if not, how many components would you choose to consider?  Justify your choice in 3 or fewer sentences.  Finally, determine how many components are needed to explain at least 90% of the variability in the feature set. "
   ]
  },
  {
   "cell_type": "markdown",
   "metadata": {},
   "source": [
    "#### Answers:\n",
    "First step is to split the observations into an approximate 50-50 train-test split. Below is some code to do this for you (we want to make sure everyone has the same splits)."
   ]
  },
  {
   "cell_type": "code",
   "execution_count": 3,
   "metadata": {},
   "outputs": [],
   "source": [
    "np.random.seed(9002)\n",
    "df = pd.read_csv('data/dataset_hw5_1.csv')\n",
    "msk = np.random.rand(len(df)) < 0.5\n",
    "data_train = df[msk]\n",
    "data_test = df[~msk]"
   ]
  },
  {
   "cell_type": "markdown",
   "metadata": {},
   "source": [
    "**1.1:** Take a peek at your training set..."
   ]
  },
  {
   "cell_type": "code",
   "execution_count": 4,
   "metadata": {},
   "outputs": [
    {
     "name": "stdout",
     "output_type": "stream",
     "text": [
      "(40, 7130)\n",
      "(33, 7130)\n"
     ]
    }
   ],
   "source": [
    "print(data_train.shape)\n",
    "print(data_test.shape)"
   ]
  },
  {
   "cell_type": "code",
   "execution_count": 5,
   "metadata": {},
   "outputs": [
    {
     "data": {
      "text/html": [
       "<div>\n",
       "<style scoped>\n",
       "    .dataframe tbody tr th:only-of-type {\n",
       "        vertical-align: middle;\n",
       "    }\n",
       "\n",
       "    .dataframe tbody tr th {\n",
       "        vertical-align: top;\n",
       "    }\n",
       "\n",
       "    .dataframe thead th {\n",
       "        text-align: right;\n",
       "    }\n",
       "</style>\n",
       "<table border=\"1\" class=\"dataframe\">\n",
       "  <thead>\n",
       "    <tr style=\"text-align: right;\">\n",
       "      <th></th>\n",
       "      <th>Cancer_type</th>\n",
       "      <th>AFFX-BioB-5_at</th>\n",
       "      <th>AFFX-BioB-M_at</th>\n",
       "      <th>AFFX-BioB-3_at</th>\n",
       "      <th>AFFX-BioC-5_at</th>\n",
       "      <th>AFFX-BioC-3_at</th>\n",
       "      <th>AFFX-BioDn-5_at</th>\n",
       "      <th>AFFX-BioDn-3_at</th>\n",
       "      <th>AFFX-CreX-5_at</th>\n",
       "      <th>AFFX-CreX-3_at</th>\n",
       "      <th>...</th>\n",
       "      <th>U48730_at</th>\n",
       "      <th>U58516_at</th>\n",
       "      <th>U73738_at</th>\n",
       "      <th>X06956_at</th>\n",
       "      <th>X16699_at</th>\n",
       "      <th>X83863_at</th>\n",
       "      <th>Z17240_at</th>\n",
       "      <th>L49218_f_at</th>\n",
       "      <th>M71243_f_at</th>\n",
       "      <th>Z78285_f_at</th>\n",
       "    </tr>\n",
       "  </thead>\n",
       "  <tbody>\n",
       "    <tr>\n",
       "      <th>0</th>\n",
       "      <td>0</td>\n",
       "      <td>-214</td>\n",
       "      <td>-153</td>\n",
       "      <td>-58</td>\n",
       "      <td>88</td>\n",
       "      <td>-295</td>\n",
       "      <td>-558</td>\n",
       "      <td>199</td>\n",
       "      <td>-176</td>\n",
       "      <td>252</td>\n",
       "      <td>...</td>\n",
       "      <td>185</td>\n",
       "      <td>511</td>\n",
       "      <td>-125</td>\n",
       "      <td>389</td>\n",
       "      <td>-37</td>\n",
       "      <td>793</td>\n",
       "      <td>329</td>\n",
       "      <td>36</td>\n",
       "      <td>191</td>\n",
       "      <td>-37</td>\n",
       "    </tr>\n",
       "    <tr>\n",
       "      <th>2</th>\n",
       "      <td>0</td>\n",
       "      <td>-106</td>\n",
       "      <td>-125</td>\n",
       "      <td>-76</td>\n",
       "      <td>168</td>\n",
       "      <td>-230</td>\n",
       "      <td>-284</td>\n",
       "      <td>4</td>\n",
       "      <td>-122</td>\n",
       "      <td>70</td>\n",
       "      <td>...</td>\n",
       "      <td>156</td>\n",
       "      <td>649</td>\n",
       "      <td>57</td>\n",
       "      <td>504</td>\n",
       "      <td>-26</td>\n",
       "      <td>250</td>\n",
       "      <td>314</td>\n",
       "      <td>14</td>\n",
       "      <td>56</td>\n",
       "      <td>-25</td>\n",
       "    </tr>\n",
       "    <tr>\n",
       "      <th>5</th>\n",
       "      <td>0</td>\n",
       "      <td>-67</td>\n",
       "      <td>-93</td>\n",
       "      <td>84</td>\n",
       "      <td>25</td>\n",
       "      <td>-179</td>\n",
       "      <td>-323</td>\n",
       "      <td>-135</td>\n",
       "      <td>-127</td>\n",
       "      <td>-2</td>\n",
       "      <td>...</td>\n",
       "      <td>48</td>\n",
       "      <td>224</td>\n",
       "      <td>60</td>\n",
       "      <td>194</td>\n",
       "      <td>-10</td>\n",
       "      <td>291</td>\n",
       "      <td>41</td>\n",
       "      <td>8</td>\n",
       "      <td>-2</td>\n",
       "      <td>-80</td>\n",
       "    </tr>\n",
       "    <tr>\n",
       "      <th>9</th>\n",
       "      <td>0</td>\n",
       "      <td>-476</td>\n",
       "      <td>-213</td>\n",
       "      <td>-18</td>\n",
       "      <td>301</td>\n",
       "      <td>-403</td>\n",
       "      <td>-394</td>\n",
       "      <td>-42</td>\n",
       "      <td>-144</td>\n",
       "      <td>98</td>\n",
       "      <td>...</td>\n",
       "      <td>241</td>\n",
       "      <td>1214</td>\n",
       "      <td>127</td>\n",
       "      <td>255</td>\n",
       "      <td>50</td>\n",
       "      <td>1701</td>\n",
       "      <td>1108</td>\n",
       "      <td>61</td>\n",
       "      <td>525</td>\n",
       "      <td>-83</td>\n",
       "    </tr>\n",
       "    <tr>\n",
       "      <th>10</th>\n",
       "      <td>0</td>\n",
       "      <td>-81</td>\n",
       "      <td>-150</td>\n",
       "      <td>-119</td>\n",
       "      <td>78</td>\n",
       "      <td>-152</td>\n",
       "      <td>-340</td>\n",
       "      <td>-36</td>\n",
       "      <td>-141</td>\n",
       "      <td>96</td>\n",
       "      <td>...</td>\n",
       "      <td>186</td>\n",
       "      <td>573</td>\n",
       "      <td>-57</td>\n",
       "      <td>694</td>\n",
       "      <td>-19</td>\n",
       "      <td>636</td>\n",
       "      <td>205</td>\n",
       "      <td>17</td>\n",
       "      <td>127</td>\n",
       "      <td>-13</td>\n",
       "    </tr>\n",
       "  </tbody>\n",
       "</table>\n",
       "<p>5 rows × 7130 columns</p>\n",
       "</div>"
      ],
      "text/plain": [
       "    Cancer_type  AFFX-BioB-5_at  AFFX-BioB-M_at  AFFX-BioB-3_at  \\\n",
       "0             0            -214            -153             -58   \n",
       "2             0            -106            -125             -76   \n",
       "5             0             -67             -93              84   \n",
       "9             0            -476            -213             -18   \n",
       "10            0             -81            -150            -119   \n",
       "\n",
       "    AFFX-BioC-5_at  AFFX-BioC-3_at  AFFX-BioDn-5_at  AFFX-BioDn-3_at  \\\n",
       "0               88            -295             -558              199   \n",
       "2              168            -230             -284                4   \n",
       "5               25            -179             -323             -135   \n",
       "9              301            -403             -394              -42   \n",
       "10              78            -152             -340              -36   \n",
       "\n",
       "    AFFX-CreX-5_at  AFFX-CreX-3_at     ...       U48730_at  U58516_at  \\\n",
       "0             -176             252     ...             185        511   \n",
       "2             -122              70     ...             156        649   \n",
       "5             -127              -2     ...              48        224   \n",
       "9             -144              98     ...             241       1214   \n",
       "10            -141              96     ...             186        573   \n",
       "\n",
       "    U73738_at  X06956_at  X16699_at  X83863_at  Z17240_at  L49218_f_at  \\\n",
       "0        -125        389        -37        793        329           36   \n",
       "2          57        504        -26        250        314           14   \n",
       "5          60        194        -10        291         41            8   \n",
       "9         127        255         50       1701       1108           61   \n",
       "10        -57        694        -19        636        205           17   \n",
       "\n",
       "    M71243_f_at  Z78285_f_at  \n",
       "0           191          -37  \n",
       "2            56          -25  \n",
       "5            -2          -80  \n",
       "9           525          -83  \n",
       "10          127          -13  \n",
       "\n",
       "[5 rows x 7130 columns]"
      ]
     },
     "execution_count": 5,
     "metadata": {},
     "output_type": "execute_result"
    }
   ],
   "source": [
    "data_train.head()"
   ]
  },
  {
   "cell_type": "code",
   "execution_count": 6,
   "metadata": {},
   "outputs": [
    {
     "data": {
      "text/html": [
       "<div>\n",
       "<style scoped>\n",
       "    .dataframe tbody tr th:only-of-type {\n",
       "        vertical-align: middle;\n",
       "    }\n",
       "\n",
       "    .dataframe tbody tr th {\n",
       "        vertical-align: top;\n",
       "    }\n",
       "\n",
       "    .dataframe thead th {\n",
       "        text-align: right;\n",
       "    }\n",
       "</style>\n",
       "<table border=\"1\" class=\"dataframe\">\n",
       "  <thead>\n",
       "    <tr style=\"text-align: right;\">\n",
       "      <th></th>\n",
       "      <th>Cancer_type</th>\n",
       "      <th>AFFX-BioB-5_at</th>\n",
       "      <th>AFFX-BioB-M_at</th>\n",
       "      <th>AFFX-BioB-3_at</th>\n",
       "      <th>AFFX-BioC-5_at</th>\n",
       "      <th>AFFX-BioC-3_at</th>\n",
       "      <th>AFFX-BioDn-5_at</th>\n",
       "      <th>AFFX-BioDn-3_at</th>\n",
       "      <th>AFFX-CreX-5_at</th>\n",
       "      <th>AFFX-CreX-3_at</th>\n",
       "      <th>...</th>\n",
       "      <th>U48730_at</th>\n",
       "      <th>U58516_at</th>\n",
       "      <th>U73738_at</th>\n",
       "      <th>X06956_at</th>\n",
       "      <th>X16699_at</th>\n",
       "      <th>X83863_at</th>\n",
       "      <th>Z17240_at</th>\n",
       "      <th>L49218_f_at</th>\n",
       "      <th>M71243_f_at</th>\n",
       "      <th>Z78285_f_at</th>\n",
       "    </tr>\n",
       "  </thead>\n",
       "  <tbody>\n",
       "    <tr>\n",
       "      <th>count</th>\n",
       "      <td>40.00000</td>\n",
       "      <td>40.000000</td>\n",
       "      <td>40.000000</td>\n",
       "      <td>40.000000</td>\n",
       "      <td>40.000000</td>\n",
       "      <td>40.000000</td>\n",
       "      <td>40.000000</td>\n",
       "      <td>40.000000</td>\n",
       "      <td>40.00000</td>\n",
       "      <td>40.000000</td>\n",
       "      <td>...</td>\n",
       "      <td>40.000000</td>\n",
       "      <td>40.000000</td>\n",
       "      <td>40.000000</td>\n",
       "      <td>40.000000</td>\n",
       "      <td>40.000000</td>\n",
       "      <td>40.000000</td>\n",
       "      <td>40.000000</td>\n",
       "      <td>40.000000</td>\n",
       "      <td>40.000000</td>\n",
       "      <td>40.000000</td>\n",
       "    </tr>\n",
       "    <tr>\n",
       "      <th>mean</th>\n",
       "      <td>0.37500</td>\n",
       "      <td>-116.125000</td>\n",
       "      <td>-163.350000</td>\n",
       "      <td>-9.125000</td>\n",
       "      <td>209.075000</td>\n",
       "      <td>-250.325000</td>\n",
       "      <td>-379.925000</td>\n",
       "      <td>-118.775000</td>\n",
       "      <td>-195.42500</td>\n",
       "      <td>82.850000</td>\n",
       "      <td>...</td>\n",
       "      <td>185.175000</td>\n",
       "      <td>641.250000</td>\n",
       "      <td>-14.800000</td>\n",
       "      <td>419.175000</td>\n",
       "      <td>-31.400000</td>\n",
       "      <td>818.875000</td>\n",
       "      <td>283.850000</td>\n",
       "      <td>11.425000</td>\n",
       "      <td>491.450000</td>\n",
       "      <td>-32.750000</td>\n",
       "    </tr>\n",
       "    <tr>\n",
       "      <th>std</th>\n",
       "      <td>0.49029</td>\n",
       "      <td>102.783364</td>\n",
       "      <td>95.437871</td>\n",
       "      <td>101.998539</td>\n",
       "      <td>111.000205</td>\n",
       "      <td>107.218776</td>\n",
       "      <td>123.026449</td>\n",
       "      <td>304.307494</td>\n",
       "      <td>100.91654</td>\n",
       "      <td>99.683743</td>\n",
       "      <td>...</td>\n",
       "      <td>87.141173</td>\n",
       "      <td>305.573085</td>\n",
       "      <td>92.745088</td>\n",
       "      <td>394.131039</td>\n",
       "      <td>54.429818</td>\n",
       "      <td>458.186178</td>\n",
       "      <td>197.123227</td>\n",
       "      <td>36.221461</td>\n",
       "      <td>653.148075</td>\n",
       "      <td>37.159221</td>\n",
       "    </tr>\n",
       "    <tr>\n",
       "      <th>min</th>\n",
       "      <td>0.00000</td>\n",
       "      <td>-476.000000</td>\n",
       "      <td>-531.000000</td>\n",
       "      <td>-168.000000</td>\n",
       "      <td>-24.000000</td>\n",
       "      <td>-496.000000</td>\n",
       "      <td>-696.000000</td>\n",
       "      <td>-1038.000000</td>\n",
       "      <td>-452.00000</td>\n",
       "      <td>-148.000000</td>\n",
       "      <td>...</td>\n",
       "      <td>42.000000</td>\n",
       "      <td>91.000000</td>\n",
       "      <td>-295.000000</td>\n",
       "      <td>-24.000000</td>\n",
       "      <td>-220.000000</td>\n",
       "      <td>67.000000</td>\n",
       "      <td>-42.000000</td>\n",
       "      <td>-100.000000</td>\n",
       "      <td>-33.000000</td>\n",
       "      <td>-108.000000</td>\n",
       "    </tr>\n",
       "    <tr>\n",
       "      <th>25%</th>\n",
       "      <td>0.00000</td>\n",
       "      <td>-140.750000</td>\n",
       "      <td>-208.500000</td>\n",
       "      <td>-81.250000</td>\n",
       "      <td>124.250000</td>\n",
       "      <td>-316.500000</td>\n",
       "      <td>-461.750000</td>\n",
       "      <td>-269.250000</td>\n",
       "      <td>-238.50000</td>\n",
       "      <td>-0.250000</td>\n",
       "      <td>...</td>\n",
       "      <td>133.750000</td>\n",
       "      <td>424.500000</td>\n",
       "      <td>-57.250000</td>\n",
       "      <td>241.750000</td>\n",
       "      <td>-57.250000</td>\n",
       "      <td>540.000000</td>\n",
       "      <td>189.000000</td>\n",
       "      <td>-8.250000</td>\n",
       "      <td>151.000000</td>\n",
       "      <td>-62.750000</td>\n",
       "    </tr>\n",
       "    <tr>\n",
       "      <th>50%</th>\n",
       "      <td>0.00000</td>\n",
       "      <td>-109.000000</td>\n",
       "      <td>-150.000000</td>\n",
       "      <td>-29.000000</td>\n",
       "      <td>228.000000</td>\n",
       "      <td>-225.000000</td>\n",
       "      <td>-384.500000</td>\n",
       "      <td>-77.000000</td>\n",
       "      <td>-172.00000</td>\n",
       "      <td>99.000000</td>\n",
       "      <td>...</td>\n",
       "      <td>179.500000</td>\n",
       "      <td>619.000000</td>\n",
       "      <td>10.500000</td>\n",
       "      <td>343.000000</td>\n",
       "      <td>-21.000000</td>\n",
       "      <td>747.000000</td>\n",
       "      <td>282.000000</td>\n",
       "      <td>10.000000</td>\n",
       "      <td>242.000000</td>\n",
       "      <td>-30.500000</td>\n",
       "    </tr>\n",
       "    <tr>\n",
       "      <th>75%</th>\n",
       "      <td>1.00000</td>\n",
       "      <td>-64.750000</td>\n",
       "      <td>-99.500000</td>\n",
       "      <td>47.000000</td>\n",
       "      <td>303.750000</td>\n",
       "      <td>-178.750000</td>\n",
       "      <td>-286.250000</td>\n",
       "      <td>20.500000</td>\n",
       "      <td>-125.75000</td>\n",
       "      <td>164.500000</td>\n",
       "      <td>...</td>\n",
       "      <td>227.000000</td>\n",
       "      <td>728.000000</td>\n",
       "      <td>52.250000</td>\n",
       "      <td>475.750000</td>\n",
       "      <td>11.250000</td>\n",
       "      <td>1042.500000</td>\n",
       "      <td>351.750000</td>\n",
       "      <td>28.250000</td>\n",
       "      <td>536.000000</td>\n",
       "      <td>-12.750000</td>\n",
       "    </tr>\n",
       "    <tr>\n",
       "      <th>max</th>\n",
       "      <td>1.00000</td>\n",
       "      <td>86.000000</td>\n",
       "      <td>-20.000000</td>\n",
       "      <td>262.000000</td>\n",
       "      <td>431.000000</td>\n",
       "      <td>-32.000000</td>\n",
       "      <td>-122.000000</td>\n",
       "      <td>367.000000</td>\n",
       "      <td>-11.00000</td>\n",
       "      <td>283.000000</td>\n",
       "      <td>...</td>\n",
       "      <td>413.000000</td>\n",
       "      <td>1655.000000</td>\n",
       "      <td>132.000000</td>\n",
       "      <td>2527.000000</td>\n",
       "      <td>50.000000</td>\n",
       "      <td>2313.000000</td>\n",
       "      <td>1108.000000</td>\n",
       "      <td>81.000000</td>\n",
       "      <td>3192.000000</td>\n",
       "      <td>78.000000</td>\n",
       "    </tr>\n",
       "  </tbody>\n",
       "</table>\n",
       "<p>8 rows × 7130 columns</p>\n",
       "</div>"
      ],
      "text/plain": [
       "       Cancer_type  AFFX-BioB-5_at  AFFX-BioB-M_at  AFFX-BioB-3_at  \\\n",
       "count     40.00000       40.000000       40.000000       40.000000   \n",
       "mean       0.37500     -116.125000     -163.350000       -9.125000   \n",
       "std        0.49029      102.783364       95.437871      101.998539   \n",
       "min        0.00000     -476.000000     -531.000000     -168.000000   \n",
       "25%        0.00000     -140.750000     -208.500000      -81.250000   \n",
       "50%        0.00000     -109.000000     -150.000000      -29.000000   \n",
       "75%        1.00000      -64.750000      -99.500000       47.000000   \n",
       "max        1.00000       86.000000      -20.000000      262.000000   \n",
       "\n",
       "       AFFX-BioC-5_at  AFFX-BioC-3_at  AFFX-BioDn-5_at  AFFX-BioDn-3_at  \\\n",
       "count       40.000000       40.000000        40.000000        40.000000   \n",
       "mean       209.075000     -250.325000      -379.925000      -118.775000   \n",
       "std        111.000205      107.218776       123.026449       304.307494   \n",
       "min        -24.000000     -496.000000      -696.000000     -1038.000000   \n",
       "25%        124.250000     -316.500000      -461.750000      -269.250000   \n",
       "50%        228.000000     -225.000000      -384.500000       -77.000000   \n",
       "75%        303.750000     -178.750000      -286.250000        20.500000   \n",
       "max        431.000000      -32.000000      -122.000000       367.000000   \n",
       "\n",
       "       AFFX-CreX-5_at  AFFX-CreX-3_at     ...        U48730_at    U58516_at  \\\n",
       "count        40.00000       40.000000     ...        40.000000    40.000000   \n",
       "mean       -195.42500       82.850000     ...       185.175000   641.250000   \n",
       "std         100.91654       99.683743     ...        87.141173   305.573085   \n",
       "min        -452.00000     -148.000000     ...        42.000000    91.000000   \n",
       "25%        -238.50000       -0.250000     ...       133.750000   424.500000   \n",
       "50%        -172.00000       99.000000     ...       179.500000   619.000000   \n",
       "75%        -125.75000      164.500000     ...       227.000000   728.000000   \n",
       "max         -11.00000      283.000000     ...       413.000000  1655.000000   \n",
       "\n",
       "        U73738_at    X06956_at   X16699_at    X83863_at    Z17240_at  \\\n",
       "count   40.000000    40.000000   40.000000    40.000000    40.000000   \n",
       "mean   -14.800000   419.175000  -31.400000   818.875000   283.850000   \n",
       "std     92.745088   394.131039   54.429818   458.186178   197.123227   \n",
       "min   -295.000000   -24.000000 -220.000000    67.000000   -42.000000   \n",
       "25%    -57.250000   241.750000  -57.250000   540.000000   189.000000   \n",
       "50%     10.500000   343.000000  -21.000000   747.000000   282.000000   \n",
       "75%     52.250000   475.750000   11.250000  1042.500000   351.750000   \n",
       "max    132.000000  2527.000000   50.000000  2313.000000  1108.000000   \n",
       "\n",
       "       L49218_f_at  M71243_f_at  Z78285_f_at  \n",
       "count    40.000000    40.000000    40.000000  \n",
       "mean     11.425000   491.450000   -32.750000  \n",
       "std      36.221461   653.148075    37.159221  \n",
       "min    -100.000000   -33.000000  -108.000000  \n",
       "25%      -8.250000   151.000000   -62.750000  \n",
       "50%      10.000000   242.000000   -30.500000  \n",
       "75%      28.250000   536.000000   -12.750000  \n",
       "max      81.000000  3192.000000    78.000000  \n",
       "\n",
       "[8 rows x 7130 columns]"
      ]
     },
     "execution_count": 6,
     "metadata": {},
     "output_type": "execute_result"
    }
   ],
   "source": [
    "data_train.describe()"
   ]
  },
  {
   "cell_type": "code",
   "execution_count": 7,
   "metadata": {},
   "outputs": [],
   "source": [
    "# your code here\n",
    "def normalize_columns(X, X_min, X_max):\n",
    "    return (X-X_min)/(X_max-X_min)\n",
    "\n",
    "X_min = np.min(data_train,axis=0)\n",
    "X_max = np.max(data_train,axis=0)\n",
    "data_train = normalize_columns(X=data_train, X_min=X_min, X_max=X_max)\n",
    "data_test = normalize_columns(X=data_test, X_min=X_min, X_max=X_max)   "
   ]
  },
  {
   "cell_type": "code",
   "execution_count": 8,
   "metadata": {},
   "outputs": [
    {
     "data": {
      "text/html": [
       "<div>\n",
       "<style scoped>\n",
       "    .dataframe tbody tr th:only-of-type {\n",
       "        vertical-align: middle;\n",
       "    }\n",
       "\n",
       "    .dataframe tbody tr th {\n",
       "        vertical-align: top;\n",
       "    }\n",
       "\n",
       "    .dataframe thead th {\n",
       "        text-align: right;\n",
       "    }\n",
       "</style>\n",
       "<table border=\"1\" class=\"dataframe\">\n",
       "  <thead>\n",
       "    <tr style=\"text-align: right;\">\n",
       "      <th></th>\n",
       "      <th>Cancer_type</th>\n",
       "      <th>AFFX-BioB-5_at</th>\n",
       "      <th>AFFX-BioB-M_at</th>\n",
       "      <th>AFFX-BioB-3_at</th>\n",
       "      <th>AFFX-BioC-5_at</th>\n",
       "      <th>AFFX-BioC-3_at</th>\n",
       "      <th>AFFX-BioDn-5_at</th>\n",
       "      <th>AFFX-BioDn-3_at</th>\n",
       "      <th>AFFX-CreX-5_at</th>\n",
       "      <th>AFFX-CreX-3_at</th>\n",
       "      <th>...</th>\n",
       "      <th>U48730_at</th>\n",
       "      <th>U58516_at</th>\n",
       "      <th>U73738_at</th>\n",
       "      <th>X06956_at</th>\n",
       "      <th>X16699_at</th>\n",
       "      <th>X83863_at</th>\n",
       "      <th>Z17240_at</th>\n",
       "      <th>L49218_f_at</th>\n",
       "      <th>M71243_f_at</th>\n",
       "      <th>Z78285_f_at</th>\n",
       "    </tr>\n",
       "  </thead>\n",
       "  <tbody>\n",
       "    <tr>\n",
       "      <th>count</th>\n",
       "      <td>40.00000</td>\n",
       "      <td>40.000000</td>\n",
       "      <td>40.000000</td>\n",
       "      <td>40.000000</td>\n",
       "      <td>40.000000</td>\n",
       "      <td>40.000000</td>\n",
       "      <td>40.000000</td>\n",
       "      <td>40.000000</td>\n",
       "      <td>40.000000</td>\n",
       "      <td>40.000000</td>\n",
       "      <td>...</td>\n",
       "      <td>40.000000</td>\n",
       "      <td>40.000000</td>\n",
       "      <td>40.000000</td>\n",
       "      <td>40.000000</td>\n",
       "      <td>40.000000</td>\n",
       "      <td>40.000000</td>\n",
       "      <td>40.000000</td>\n",
       "      <td>40.000000</td>\n",
       "      <td>40.000000</td>\n",
       "      <td>40.000000</td>\n",
       "    </tr>\n",
       "    <tr>\n",
       "      <th>mean</th>\n",
       "      <td>0.37500</td>\n",
       "      <td>0.640347</td>\n",
       "      <td>0.719472</td>\n",
       "      <td>0.369477</td>\n",
       "      <td>0.512253</td>\n",
       "      <td>0.529472</td>\n",
       "      <td>0.550653</td>\n",
       "      <td>0.654253</td>\n",
       "      <td>0.581803</td>\n",
       "      <td>0.535615</td>\n",
       "      <td>...</td>\n",
       "      <td>0.385916</td>\n",
       "      <td>0.351822</td>\n",
       "      <td>0.656206</td>\n",
       "      <td>0.173726</td>\n",
       "      <td>0.698519</td>\n",
       "      <td>0.334762</td>\n",
       "      <td>0.283348</td>\n",
       "      <td>0.615608</td>\n",
       "      <td>0.162620</td>\n",
       "      <td>0.404570</td>\n",
       "    </tr>\n",
       "    <tr>\n",
       "      <th>std</th>\n",
       "      <td>0.49029</td>\n",
       "      <td>0.182889</td>\n",
       "      <td>0.186767</td>\n",
       "      <td>0.237206</td>\n",
       "      <td>0.243956</td>\n",
       "      <td>0.231075</td>\n",
       "      <td>0.214332</td>\n",
       "      <td>0.216589</td>\n",
       "      <td>0.228836</td>\n",
       "      <td>0.231285</td>\n",
       "      <td>...</td>\n",
       "      <td>0.234882</td>\n",
       "      <td>0.195379</td>\n",
       "      <td>0.217202</td>\n",
       "      <td>0.154501</td>\n",
       "      <td>0.201592</td>\n",
       "      <td>0.204001</td>\n",
       "      <td>0.171412</td>\n",
       "      <td>0.200119</td>\n",
       "      <td>0.202527</td>\n",
       "      <td>0.199781</td>\n",
       "    </tr>\n",
       "    <tr>\n",
       "      <th>min</th>\n",
       "      <td>0.00000</td>\n",
       "      <td>0.000000</td>\n",
       "      <td>0.000000</td>\n",
       "      <td>0.000000</td>\n",
       "      <td>0.000000</td>\n",
       "      <td>0.000000</td>\n",
       "      <td>0.000000</td>\n",
       "      <td>0.000000</td>\n",
       "      <td>0.000000</td>\n",
       "      <td>0.000000</td>\n",
       "      <td>...</td>\n",
       "      <td>0.000000</td>\n",
       "      <td>0.000000</td>\n",
       "      <td>0.000000</td>\n",
       "      <td>0.000000</td>\n",
       "      <td>0.000000</td>\n",
       "      <td>0.000000</td>\n",
       "      <td>0.000000</td>\n",
       "      <td>0.000000</td>\n",
       "      <td>0.000000</td>\n",
       "      <td>0.000000</td>\n",
       "    </tr>\n",
       "    <tr>\n",
       "      <th>25%</th>\n",
       "      <td>0.00000</td>\n",
       "      <td>0.596530</td>\n",
       "      <td>0.631115</td>\n",
       "      <td>0.201744</td>\n",
       "      <td>0.325824</td>\n",
       "      <td>0.386853</td>\n",
       "      <td>0.408101</td>\n",
       "      <td>0.547153</td>\n",
       "      <td>0.484127</td>\n",
       "      <td>0.342807</td>\n",
       "      <td>...</td>\n",
       "      <td>0.247305</td>\n",
       "      <td>0.213235</td>\n",
       "      <td>0.556792</td>\n",
       "      <td>0.104175</td>\n",
       "      <td>0.602778</td>\n",
       "      <td>0.210597</td>\n",
       "      <td>0.200870</td>\n",
       "      <td>0.506906</td>\n",
       "      <td>0.057054</td>\n",
       "      <td>0.243280</td>\n",
       "    </tr>\n",
       "    <tr>\n",
       "      <th>50%</th>\n",
       "      <td>0.00000</td>\n",
       "      <td>0.653025</td>\n",
       "      <td>0.745597</td>\n",
       "      <td>0.323256</td>\n",
       "      <td>0.553846</td>\n",
       "      <td>0.584052</td>\n",
       "      <td>0.542683</td>\n",
       "      <td>0.683986</td>\n",
       "      <td>0.634921</td>\n",
       "      <td>0.573086</td>\n",
       "      <td>...</td>\n",
       "      <td>0.370620</td>\n",
       "      <td>0.337596</td>\n",
       "      <td>0.715457</td>\n",
       "      <td>0.143865</td>\n",
       "      <td>0.737037</td>\n",
       "      <td>0.302760</td>\n",
       "      <td>0.281739</td>\n",
       "      <td>0.607735</td>\n",
       "      <td>0.085271</td>\n",
       "      <td>0.416667</td>\n",
       "    </tr>\n",
       "    <tr>\n",
       "      <th>75%</th>\n",
       "      <td>1.00000</td>\n",
       "      <td>0.731762</td>\n",
       "      <td>0.844423</td>\n",
       "      <td>0.500000</td>\n",
       "      <td>0.720330</td>\n",
       "      <td>0.683728</td>\n",
       "      <td>0.713850</td>\n",
       "      <td>0.753381</td>\n",
       "      <td>0.739796</td>\n",
       "      <td>0.725058</td>\n",
       "      <td>...</td>\n",
       "      <td>0.498652</td>\n",
       "      <td>0.407289</td>\n",
       "      <td>0.813232</td>\n",
       "      <td>0.195904</td>\n",
       "      <td>0.856481</td>\n",
       "      <td>0.434328</td>\n",
       "      <td>0.342391</td>\n",
       "      <td>0.708564</td>\n",
       "      <td>0.176434</td>\n",
       "      <td>0.512097</td>\n",
       "    </tr>\n",
       "    <tr>\n",
       "      <th>max</th>\n",
       "      <td>1.00000</td>\n",
       "      <td>1.000000</td>\n",
       "      <td>1.000000</td>\n",
       "      <td>1.000000</td>\n",
       "      <td>1.000000</td>\n",
       "      <td>1.000000</td>\n",
       "      <td>1.000000</td>\n",
       "      <td>1.000000</td>\n",
       "      <td>1.000000</td>\n",
       "      <td>1.000000</td>\n",
       "      <td>...</td>\n",
       "      <td>1.000000</td>\n",
       "      <td>1.000000</td>\n",
       "      <td>1.000000</td>\n",
       "      <td>1.000000</td>\n",
       "      <td>1.000000</td>\n",
       "      <td>1.000000</td>\n",
       "      <td>1.000000</td>\n",
       "      <td>1.000000</td>\n",
       "      <td>1.000000</td>\n",
       "      <td>1.000000</td>\n",
       "    </tr>\n",
       "  </tbody>\n",
       "</table>\n",
       "<p>8 rows × 7130 columns</p>\n",
       "</div>"
      ],
      "text/plain": [
       "       Cancer_type  AFFX-BioB-5_at  AFFX-BioB-M_at  AFFX-BioB-3_at  \\\n",
       "count     40.00000       40.000000       40.000000       40.000000   \n",
       "mean       0.37500        0.640347        0.719472        0.369477   \n",
       "std        0.49029        0.182889        0.186767        0.237206   \n",
       "min        0.00000        0.000000        0.000000        0.000000   \n",
       "25%        0.00000        0.596530        0.631115        0.201744   \n",
       "50%        0.00000        0.653025        0.745597        0.323256   \n",
       "75%        1.00000        0.731762        0.844423        0.500000   \n",
       "max        1.00000        1.000000        1.000000        1.000000   \n",
       "\n",
       "       AFFX-BioC-5_at  AFFX-BioC-3_at  AFFX-BioDn-5_at  AFFX-BioDn-3_at  \\\n",
       "count       40.000000       40.000000        40.000000        40.000000   \n",
       "mean         0.512253        0.529472         0.550653         0.654253   \n",
       "std          0.243956        0.231075         0.214332         0.216589   \n",
       "min          0.000000        0.000000         0.000000         0.000000   \n",
       "25%          0.325824        0.386853         0.408101         0.547153   \n",
       "50%          0.553846        0.584052         0.542683         0.683986   \n",
       "75%          0.720330        0.683728         0.713850         0.753381   \n",
       "max          1.000000        1.000000         1.000000         1.000000   \n",
       "\n",
       "       AFFX-CreX-5_at  AFFX-CreX-3_at     ...       U48730_at  U58516_at  \\\n",
       "count       40.000000       40.000000     ...       40.000000  40.000000   \n",
       "mean         0.581803        0.535615     ...        0.385916   0.351822   \n",
       "std          0.228836        0.231285     ...        0.234882   0.195379   \n",
       "min          0.000000        0.000000     ...        0.000000   0.000000   \n",
       "25%          0.484127        0.342807     ...        0.247305   0.213235   \n",
       "50%          0.634921        0.573086     ...        0.370620   0.337596   \n",
       "75%          0.739796        0.725058     ...        0.498652   0.407289   \n",
       "max          1.000000        1.000000     ...        1.000000   1.000000   \n",
       "\n",
       "       U73738_at  X06956_at  X16699_at  X83863_at  Z17240_at  L49218_f_at  \\\n",
       "count  40.000000  40.000000  40.000000  40.000000  40.000000    40.000000   \n",
       "mean    0.656206   0.173726   0.698519   0.334762   0.283348     0.615608   \n",
       "std     0.217202   0.154501   0.201592   0.204001   0.171412     0.200119   \n",
       "min     0.000000   0.000000   0.000000   0.000000   0.000000     0.000000   \n",
       "25%     0.556792   0.104175   0.602778   0.210597   0.200870     0.506906   \n",
       "50%     0.715457   0.143865   0.737037   0.302760   0.281739     0.607735   \n",
       "75%     0.813232   0.195904   0.856481   0.434328   0.342391     0.708564   \n",
       "max     1.000000   1.000000   1.000000   1.000000   1.000000     1.000000   \n",
       "\n",
       "       M71243_f_at  Z78285_f_at  \n",
       "count    40.000000    40.000000  \n",
       "mean      0.162620     0.404570  \n",
       "std       0.202527     0.199781  \n",
       "min       0.000000     0.000000  \n",
       "25%       0.057054     0.243280  \n",
       "50%       0.085271     0.416667  \n",
       "75%       0.176434     0.512097  \n",
       "max       1.000000     1.000000  \n",
       "\n",
       "[8 rows x 7130 columns]"
      ]
     },
     "execution_count": 8,
     "metadata": {},
     "output_type": "execute_result"
    }
   ],
   "source": [
    "data_train.describe()"
   ]
  },
  {
   "cell_type": "code",
   "execution_count": 9,
   "metadata": {},
   "outputs": [
    {
     "data": {
      "text/html": [
       "<div>\n",
       "<style scoped>\n",
       "    .dataframe tbody tr th:only-of-type {\n",
       "        vertical-align: middle;\n",
       "    }\n",
       "\n",
       "    .dataframe tbody tr th {\n",
       "        vertical-align: top;\n",
       "    }\n",
       "\n",
       "    .dataframe thead th {\n",
       "        text-align: right;\n",
       "    }\n",
       "</style>\n",
       "<table border=\"1\" class=\"dataframe\">\n",
       "  <thead>\n",
       "    <tr style=\"text-align: right;\">\n",
       "      <th></th>\n",
       "      <th>Cancer_type</th>\n",
       "      <th>AFFX-BioB-5_at</th>\n",
       "      <th>AFFX-BioB-M_at</th>\n",
       "      <th>AFFX-BioB-3_at</th>\n",
       "      <th>AFFX-BioC-5_at</th>\n",
       "      <th>AFFX-BioC-3_at</th>\n",
       "      <th>AFFX-BioDn-5_at</th>\n",
       "      <th>AFFX-BioDn-3_at</th>\n",
       "      <th>AFFX-CreX-5_at</th>\n",
       "      <th>AFFX-CreX-3_at</th>\n",
       "      <th>...</th>\n",
       "      <th>U48730_at</th>\n",
       "      <th>U58516_at</th>\n",
       "      <th>U73738_at</th>\n",
       "      <th>X06956_at</th>\n",
       "      <th>X16699_at</th>\n",
       "      <th>X83863_at</th>\n",
       "      <th>Z17240_at</th>\n",
       "      <th>L49218_f_at</th>\n",
       "      <th>M71243_f_at</th>\n",
       "      <th>Z78285_f_at</th>\n",
       "    </tr>\n",
       "  </thead>\n",
       "  <tbody>\n",
       "    <tr>\n",
       "      <th>count</th>\n",
       "      <td>33.000000</td>\n",
       "      <td>33.000000</td>\n",
       "      <td>33.000000</td>\n",
       "      <td>33.000000</td>\n",
       "      <td>33.000000</td>\n",
       "      <td>33.000000</td>\n",
       "      <td>33.000000</td>\n",
       "      <td>33.000000</td>\n",
       "      <td>33.000000</td>\n",
       "      <td>33.000000</td>\n",
       "      <td>...</td>\n",
       "      <td>33.000000</td>\n",
       "      <td>33.000000</td>\n",
       "      <td>33.000000</td>\n",
       "      <td>33.000000</td>\n",
       "      <td>33.000000</td>\n",
       "      <td>33.000000</td>\n",
       "      <td>33.000000</td>\n",
       "      <td>33.000000</td>\n",
       "      <td>33.000000</td>\n",
       "      <td>33.000000</td>\n",
       "    </tr>\n",
       "    <tr>\n",
       "      <th>mean</th>\n",
       "      <td>0.303030</td>\n",
       "      <td>0.641055</td>\n",
       "      <td>0.733737</td>\n",
       "      <td>0.371388</td>\n",
       "      <td>0.409524</td>\n",
       "      <td>0.512409</td>\n",
       "      <td>0.479516</td>\n",
       "      <td>0.744937</td>\n",
       "      <td>0.606473</td>\n",
       "      <td>0.533502</td>\n",
       "      <td>...</td>\n",
       "      <td>0.328188</td>\n",
       "      <td>0.387352</td>\n",
       "      <td>0.664112</td>\n",
       "      <td>0.141442</td>\n",
       "      <td>0.679686</td>\n",
       "      <td>0.297215</td>\n",
       "      <td>0.322661</td>\n",
       "      <td>0.597355</td>\n",
       "      <td>0.120583</td>\n",
       "      <td>0.429456</td>\n",
       "    </tr>\n",
       "    <tr>\n",
       "      <th>std</th>\n",
       "      <td>0.466694</td>\n",
       "      <td>0.165245</td>\n",
       "      <td>0.189658</td>\n",
       "      <td>0.335398</td>\n",
       "      <td>0.239065</td>\n",
       "      <td>0.298177</td>\n",
       "      <td>0.309424</td>\n",
       "      <td>0.174231</td>\n",
       "      <td>0.222876</td>\n",
       "      <td>0.187403</td>\n",
       "      <td>...</td>\n",
       "      <td>0.271523</td>\n",
       "      <td>0.194909</td>\n",
       "      <td>0.193956</td>\n",
       "      <td>0.138439</td>\n",
       "      <td>0.180964</td>\n",
       "      <td>0.194876</td>\n",
       "      <td>0.186667</td>\n",
       "      <td>0.296720</td>\n",
       "      <td>0.179463</td>\n",
       "      <td>0.233766</td>\n",
       "    </tr>\n",
       "    <tr>\n",
       "      <th>min</th>\n",
       "      <td>0.000000</td>\n",
       "      <td>0.112100</td>\n",
       "      <td>0.174168</td>\n",
       "      <td>-0.562791</td>\n",
       "      <td>-0.026374</td>\n",
       "      <td>-0.096983</td>\n",
       "      <td>-0.198606</td>\n",
       "      <td>0.489680</td>\n",
       "      <td>-0.024943</td>\n",
       "      <td>0.153132</td>\n",
       "      <td>...</td>\n",
       "      <td>-0.269542</td>\n",
       "      <td>0.021739</td>\n",
       "      <td>0.257611</td>\n",
       "      <td>0.014504</td>\n",
       "      <td>0.266667</td>\n",
       "      <td>0.029386</td>\n",
       "      <td>0.035652</td>\n",
       "      <td>-0.591160</td>\n",
       "      <td>-0.010853</td>\n",
       "      <td>-0.440860</td>\n",
       "    </tr>\n",
       "    <tr>\n",
       "      <th>25%</th>\n",
       "      <td>0.000000</td>\n",
       "      <td>0.560498</td>\n",
       "      <td>0.618395</td>\n",
       "      <td>0.255814</td>\n",
       "      <td>0.232967</td>\n",
       "      <td>0.312500</td>\n",
       "      <td>0.240418</td>\n",
       "      <td>0.620641</td>\n",
       "      <td>0.519274</td>\n",
       "      <td>0.406032</td>\n",
       "      <td>...</td>\n",
       "      <td>0.164420</td>\n",
       "      <td>0.268542</td>\n",
       "      <td>0.578454</td>\n",
       "      <td>0.076833</td>\n",
       "      <td>0.551852</td>\n",
       "      <td>0.203028</td>\n",
       "      <td>0.184348</td>\n",
       "      <td>0.508287</td>\n",
       "      <td>0.046202</td>\n",
       "      <td>0.349462</td>\n",
       "    </tr>\n",
       "    <tr>\n",
       "      <th>50%</th>\n",
       "      <td>0.000000</td>\n",
       "      <td>0.683274</td>\n",
       "      <td>0.767123</td>\n",
       "      <td>0.374419</td>\n",
       "      <td>0.373626</td>\n",
       "      <td>0.566810</td>\n",
       "      <td>0.496516</td>\n",
       "      <td>0.716726</td>\n",
       "      <td>0.625850</td>\n",
       "      <td>0.494200</td>\n",
       "      <td>...</td>\n",
       "      <td>0.239892</td>\n",
       "      <td>0.350384</td>\n",
       "      <td>0.662763</td>\n",
       "      <td>0.103489</td>\n",
       "      <td>0.677778</td>\n",
       "      <td>0.269368</td>\n",
       "      <td>0.322609</td>\n",
       "      <td>0.607735</td>\n",
       "      <td>0.074729</td>\n",
       "      <td>0.451613</td>\n",
       "    </tr>\n",
       "    <tr>\n",
       "      <th>75%</th>\n",
       "      <td>1.000000</td>\n",
       "      <td>0.749110</td>\n",
       "      <td>0.872798</td>\n",
       "      <td>0.504651</td>\n",
       "      <td>0.558242</td>\n",
       "      <td>0.698276</td>\n",
       "      <td>0.736934</td>\n",
       "      <td>0.839146</td>\n",
       "      <td>0.752834</td>\n",
       "      <td>0.635731</td>\n",
       "      <td>...</td>\n",
       "      <td>0.463612</td>\n",
       "      <td>0.475703</td>\n",
       "      <td>0.768150</td>\n",
       "      <td>0.163073</td>\n",
       "      <td>0.796296</td>\n",
       "      <td>0.330365</td>\n",
       "      <td>0.423478</td>\n",
       "      <td>0.751381</td>\n",
       "      <td>0.090853</td>\n",
       "      <td>0.575269</td>\n",
       "    </tr>\n",
       "    <tr>\n",
       "      <th>max</th>\n",
       "      <td>1.000000</td>\n",
       "      <td>0.873665</td>\n",
       "      <td>1.013699</td>\n",
       "      <td>1.116279</td>\n",
       "      <td>0.923077</td>\n",
       "      <td>1.314655</td>\n",
       "      <td>0.954704</td>\n",
       "      <td>1.243416</td>\n",
       "      <td>0.970522</td>\n",
       "      <td>0.928074</td>\n",
       "      <td>...</td>\n",
       "      <td>0.846361</td>\n",
       "      <td>0.872123</td>\n",
       "      <td>1.201405</td>\n",
       "      <td>0.769502</td>\n",
       "      <td>1.007407</td>\n",
       "      <td>0.838379</td>\n",
       "      <td>0.824348</td>\n",
       "      <td>1.187845</td>\n",
       "      <td>0.791628</td>\n",
       "      <td>0.795699</td>\n",
       "    </tr>\n",
       "  </tbody>\n",
       "</table>\n",
       "<p>8 rows × 7130 columns</p>\n",
       "</div>"
      ],
      "text/plain": [
       "       Cancer_type  AFFX-BioB-5_at  AFFX-BioB-M_at  AFFX-BioB-3_at  \\\n",
       "count    33.000000       33.000000       33.000000       33.000000   \n",
       "mean      0.303030        0.641055        0.733737        0.371388   \n",
       "std       0.466694        0.165245        0.189658        0.335398   \n",
       "min       0.000000        0.112100        0.174168       -0.562791   \n",
       "25%       0.000000        0.560498        0.618395        0.255814   \n",
       "50%       0.000000        0.683274        0.767123        0.374419   \n",
       "75%       1.000000        0.749110        0.872798        0.504651   \n",
       "max       1.000000        0.873665        1.013699        1.116279   \n",
       "\n",
       "       AFFX-BioC-5_at  AFFX-BioC-3_at  AFFX-BioDn-5_at  AFFX-BioDn-3_at  \\\n",
       "count       33.000000       33.000000        33.000000        33.000000   \n",
       "mean         0.409524        0.512409         0.479516         0.744937   \n",
       "std          0.239065        0.298177         0.309424         0.174231   \n",
       "min         -0.026374       -0.096983        -0.198606         0.489680   \n",
       "25%          0.232967        0.312500         0.240418         0.620641   \n",
       "50%          0.373626        0.566810         0.496516         0.716726   \n",
       "75%          0.558242        0.698276         0.736934         0.839146   \n",
       "max          0.923077        1.314655         0.954704         1.243416   \n",
       "\n",
       "       AFFX-CreX-5_at  AFFX-CreX-3_at     ...       U48730_at  U58516_at  \\\n",
       "count       33.000000       33.000000     ...       33.000000  33.000000   \n",
       "mean         0.606473        0.533502     ...        0.328188   0.387352   \n",
       "std          0.222876        0.187403     ...        0.271523   0.194909   \n",
       "min         -0.024943        0.153132     ...       -0.269542   0.021739   \n",
       "25%          0.519274        0.406032     ...        0.164420   0.268542   \n",
       "50%          0.625850        0.494200     ...        0.239892   0.350384   \n",
       "75%          0.752834        0.635731     ...        0.463612   0.475703   \n",
       "max          0.970522        0.928074     ...        0.846361   0.872123   \n",
       "\n",
       "       U73738_at  X06956_at  X16699_at  X83863_at  Z17240_at  L49218_f_at  \\\n",
       "count  33.000000  33.000000  33.000000  33.000000  33.000000    33.000000   \n",
       "mean    0.664112   0.141442   0.679686   0.297215   0.322661     0.597355   \n",
       "std     0.193956   0.138439   0.180964   0.194876   0.186667     0.296720   \n",
       "min     0.257611   0.014504   0.266667   0.029386   0.035652    -0.591160   \n",
       "25%     0.578454   0.076833   0.551852   0.203028   0.184348     0.508287   \n",
       "50%     0.662763   0.103489   0.677778   0.269368   0.322609     0.607735   \n",
       "75%     0.768150   0.163073   0.796296   0.330365   0.423478     0.751381   \n",
       "max     1.201405   0.769502   1.007407   0.838379   0.824348     1.187845   \n",
       "\n",
       "       M71243_f_at  Z78285_f_at  \n",
       "count    33.000000    33.000000  \n",
       "mean      0.120583     0.429456  \n",
       "std       0.179463     0.233766  \n",
       "min      -0.010853    -0.440860  \n",
       "25%       0.046202     0.349462  \n",
       "50%       0.074729     0.451613  \n",
       "75%       0.090853     0.575269  \n",
       "max       0.791628     0.795699  \n",
       "\n",
       "[8 rows x 7130 columns]"
      ]
     },
     "execution_count": 9,
     "metadata": {},
     "output_type": "execute_result"
    }
   ],
   "source": [
    "data_test.describe()"
   ]
  },
  {
   "cell_type": "markdown",
   "metadata": {},
   "source": [
    "**1.2:** Notice that the resulting training set contains..."
   ]
  },
  {
   "cell_type": "markdown",
   "metadata": {},
   "source": [
    "*your answer here*\n",
    "\n",
    "With more predictors than observations, \n",
    "* the model is underdetermined with a sparse coefficient vector, containing a few non-zero elements, the remaining elements zero. \n",
    "* We risk finding spurious relationships between predictors and response."
   ]
  },
  {
   "cell_type": "markdown",
   "metadata": {},
   "source": [
    "**1.3:** Let's explore a few of the genes..."
   ]
  },
  {
   "cell_type": "code",
   "execution_count": 10,
   "metadata": {},
   "outputs": [
    {
     "data": {
      "text/plain": [
       "Text(0.5,1,'AFFX-PheX-5_at')"
      ]
     },
     "execution_count": 10,
     "metadata": {},
     "output_type": "execute_result"
    },
    {
     "data": {
      "image/png": "[encoded data removed]",
      "text/plain": [
       "<Figure size 1080x432 with 4 Axes>"
      ]
     },
     "metadata": {},
     "output_type": "display_data"
    }
   ],
   "source": [
    "# your code here\n",
    "gene_list = [\"D29963_at\", \"M23161_at\", \"hum_alu_at\", \"AFFX-PheX-5_at\"]\n",
    "f, axarr = plt.subplots(2, 2, figsize=(15, 6), sharex=True, sharey=True)\n",
    "\n",
    "axarr[0,0].hist(data_train.loc[data_train['Cancer_type'] == 0, 'D29963_at'], label= 'ALL', alpha = 0.7)\n",
    "axarr[0,0].hist(data_train.loc[data_train['Cancer_type'] == 1, 'D29963_at'], label= 'AML', alpha = 0.7)\n",
    "axarr[0,0].legend()\n",
    "axarr[0,0].set_title('D29963_at')\n",
    "\n",
    "axarr[0,1].hist(data_train.loc[data_train['Cancer_type'] == 0, 'M23161_at'], label= 'ALL', alpha = 0.7)\n",
    "axarr[0,1].hist(data_train.loc[data_train['Cancer_type'] == 1, 'M23161_at'], label= 'AML', alpha = 0.7)\n",
    "axarr[0,1].legend()\n",
    "axarr[0,1].set_title('M23161_at')\n",
    "\n",
    "axarr[1,0].hist(data_train.loc[data_train['Cancer_type'] == 0, 'hum_alu_at'], label= 'ALL', alpha = 0.7)\n",
    "axarr[1,0].hist(data_train.loc[data_train['Cancer_type'] == 1, 'hum_alu_at'], label= 'AML', alpha = 0.7)\n",
    "axarr[1,0].legend()\n",
    "axarr[1,0].set_title('hum_alu_at')\n",
    "\n",
    "axarr[1,1].hist(data_train.loc[data_train['Cancer_type'] == 0, 'AFFX-PheX-5_at'], label= 'ALL', alpha = 0.7)\n",
    "axarr[1,1].hist(data_train.loc[data_train['Cancer_type'] == 1, 'AFFX-PheX-5_at'], label= 'AML', alpha = 0.7)\n",
    "axarr[1,1].legend()\n",
    "axarr[1,1].set_title('AFFX-PheX-5_at')\n"
   ]
  },
  {
   "cell_type": "markdown",
   "metadata": {},
   "source": [
    "*your answer here*\n",
    "\n",
    "Positive value of D29963_at and hum_alu_at is more likely to be in the AML class. Positive value of M23161_at is more likely to be in the ALL class. Negative value of AFFX-PheX-5_at is more likely to be in the ALL calss."
   ]
  },
  {
   "cell_type": "markdown",
   "metadata": {},
   "source": [
    "**1.4:** Since our data has dimensions that are not easily visualizable..."
   ]
  },
  {
   "cell_type": "code",
   "execution_count": 11,
   "metadata": {},
   "outputs": [
    {
     "data": {
      "text/plain": [
       "<seaborn.axisgrid.FacetGrid at 0x2d105b1cdd8>"
      ]
     },
     "execution_count": 11,
     "metadata": {},
     "output_type": "execute_result"
    },
    {
     "data": {
      "image/png": "[encoded data removed]",
      "text/plain": [
       "<Figure size 421.25x360 with 1 Axes>"
      ]
     },
     "metadata": {},
     "output_type": "display_data"
    }
   ],
   "source": [
    "# your code here\n",
    "x_train, y_train = data_train.iloc[:,1:], data_train.iloc[:,0]\n",
    "x_test, y_test = data_test.iloc[:,1:], data_test.iloc[:,0]\n",
    "\n",
    "pca = PCA(n_components=2)\n",
    "train_pca = pd.DataFrame(pca.fit_transform(x_train), columns=['pca1','pca2'])\n",
    "train_pca['Cancer_type'] = y_train.values\n",
    "\n",
    "sns.lmplot(data = train_pca, x='pca1', y = 'pca2', hue ='Cancer_type', markers=[\"x\", \"o\"], fit_reg=False)"
   ]
  },
  {
   "cell_type": "code",
   "execution_count": 13,
   "metadata": {},
   "outputs": [
    {
     "name": "stdout",
     "output_type": "stream",
     "text": [
      "Total variance explained: 0.2731782945208866\n"
     ]
    }
   ],
   "source": [
    "print('Total variance explained:', sum(pca.explained_variance_ratio_))  "
   ]
  },
  {
   "cell_type": "markdown",
   "metadata": {},
   "source": [
    "*your answer here*\n",
    "\n",
    "The first two components can explain about 27% of the total variance. There is some useful information in the above plot in terms of creating a classifier, however, it's difficult to draw a decision boundary that perfectly separates ALL from AML points."
   ]
  },
  {
   "cell_type": "markdown",
   "metadata": {},
   "source": [
    "**1.5**: Plot the cumulative variance explained in the feature set..."
   ]
  },
  {
   "cell_type": "code",
   "execution_count": 14,
   "metadata": {},
   "outputs": [
    {
     "data": {
      "text/plain": [
       "Text(0,0.5,'Total Variance Explained')"
      ]
     },
     "execution_count": 14,
     "metadata": {},
     "output_type": "execute_result"
    },
    {
     "data": {
      "image/png": "[encoded data removed]",
      "text/plain": [
       "<Figure size 432x288 with 1 Axes>"
      ]
     },
     "metadata": {},
     "output_type": "display_data"
    }
   ],
   "source": [
    "# your code here\n",
    "df = pd.DataFrame()\n",
    "\n",
    "for i in range(50):\n",
    "    pca = PCA(n_components=i)\n",
    "    pca.fit(x_train)\n",
    "    df = df.append(pd.DataFrame({'dim': [i] , 'variance': [sum(pca.explained_variance_ratio_)]}))\n",
    "    \n",
    "plt.scatter(x=df['dim'], y=df['variance'])\n",
    "plt.axhline(0.9, ls='--', color='red')\n",
    "plt.title(\"Total Variance Explained vs Number of PCA Components\")\n",
    "plt.xlabel(\"Number of PCA Components\")\n",
    "plt.ylabel(\"Total Variance Explained\")"
   ]
  },
  {
   "cell_type": "code",
   "execution_count": 15,
   "metadata": {},
   "outputs": [
    {
     "data": {
      "text/html": [
       "<div>\n",
       "<style scoped>\n",
       "    .dataframe tbody tr th:only-of-type {\n",
       "        vertical-align: middle;\n",
       "    }\n",
       "\n",
       "    .dataframe tbody tr th {\n",
       "        vertical-align: top;\n",
       "    }\n",
       "\n",
       "    .dataframe thead th {\n",
       "        text-align: right;\n",
       "    }\n",
       "</style>\n",
       "<table border=\"1\" class=\"dataframe\">\n",
       "  <thead>\n",
       "    <tr style=\"text-align: right;\">\n",
       "      <th></th>\n",
       "      <th>dim</th>\n",
       "      <th>variance</th>\n",
       "    </tr>\n",
       "  </thead>\n",
       "  <tbody>\n",
       "    <tr>\n",
       "      <th>0</th>\n",
       "      <td>0</td>\n",
       "      <td>0.000000</td>\n",
       "    </tr>\n",
       "    <tr>\n",
       "      <th>0</th>\n",
       "      <td>1</td>\n",
       "      <td>0.158890</td>\n",
       "    </tr>\n",
       "    <tr>\n",
       "      <th>0</th>\n",
       "      <td>2</td>\n",
       "      <td>0.273178</td>\n",
       "    </tr>\n",
       "    <tr>\n",
       "      <th>0</th>\n",
       "      <td>3</td>\n",
       "      <td>0.339141</td>\n",
       "    </tr>\n",
       "    <tr>\n",
       "      <th>0</th>\n",
       "      <td>4</td>\n",
       "      <td>0.387005</td>\n",
       "    </tr>\n",
       "  </tbody>\n",
       "</table>\n",
       "</div>"
      ],
      "text/plain": [
       "   dim  variance\n",
       "0    0  0.000000\n",
       "0    1  0.158890\n",
       "0    2  0.273178\n",
       "0    3  0.339141\n",
       "0    4  0.387005"
      ]
     },
     "execution_count": 15,
     "metadata": {},
     "output_type": "execute_result"
    }
   ],
   "source": [
    "df.head()"
   ]
  },
  {
   "cell_type": "code",
   "execution_count": 16,
   "metadata": {},
   "outputs": [
    {
     "name": "stdout",
     "output_type": "stream",
     "text": [
      "22 dimensions can explain 80.8% of the total variance.\n",
      "29 dimensions can explain 90.3% of the total variance.\n"
     ]
    }
   ],
   "source": [
    "temp = 1\n",
    "for index, row in df.iterrows():\n",
    "    if temp and row['variance'] >= 0.8:\n",
    "        pca_80 = int(row['dim'])\n",
    "        print(\"%i dimensions can explain %.1f%% of the total variance.\" % (pca_80, row['variance'] * 100))\n",
    "        temp = 0\n",
    "        \n",
    "    if row['variance'] >= 0.9:\n",
    "        pca_90 = int(row['dim'])\n",
    "        print(\"%i dimensions can explain %.1f%% of the total variance.\" % (pca_90, row['variance'] * 100))\n",
    "        break"
   ]
  },
  {
   "cell_type": "markdown",
   "metadata": {},
   "source": [
    "*your answer here*\n",
    "\n",
    "Two components are not enough, since they can only explain about 27% of the total variance. I would choose 22 top componenets, so that they can explain more than 80% of the total variance. \n",
    "\n",
    "29 dimensions are needed to explain at least 90% of the variability in the feature set."
   ]
  },
  {
   "cell_type": "markdown",
   "metadata": {},
   "source": [
    "<div class='exercise'> <b> Question 2 [25 pts]: Linear Regression vs. Logistic Regression </b> </div>\n",
    "\n",
    "In class we discussed how to use both linear regression and logistic regression for classification. For this question, you will work with a single gene predictor, `D29963_at`, to explore these two methods.\n",
    "\n",
    "**2.1** Fit a simple linear regression model to the training set using the single gene predictor `D29963_at` to predict cancer type and plot the histogram of predicted values. We could interpret the scores predicted by the regression model for a patient as an estimate of the probability that the patient has `Cancer_type`=1 (AML). Is there a problem with this interpretation?\n",
    "\n",
    "**2.2** The fitted linear regression model can be converted to a classification model (i.e. a model that predicts one of two binary classes 0 or 1) by classifying patients with predicted score greater than 0.5 into `Cancer_type`=1, and the others into the `Cancer_type`=0. Evaluate the classification accuracy of the obtained classification model on both the training and test sets.\n",
    "\n",
    "**2.3** Next, fit a simple logistic regression model to the training set. How do the training and test classification accuracies of this model compare with the linear regression model? If there are no substantial differences, why do you think this happens? \n",
    "\n",
    "Remember, you need to set the regularization parameter for sklearn's logistic regression function to be a very large value in order to **not** regularize (use 'C=100000').  \n",
    "\n",
    "**2.4** Create a figure with 4 items displayed on the same plot:\n",
    "- the quantitative response from the linear regression model as a function of the gene predictor `D29963_at`.\n",
    "- the predicted probabilities of the logistic regression model as a function of the gene predictor `D29963_at`.  \n",
    "- the true binary response for the test set points for both models in the same plot. \n",
    "- a horizontal line at $y=0.5$. \n",
    "\n",
    "Based on these plots, does one of the models appear better suited for binary classification than the other?  Explain in 3 sentences or fewer. \n",
    "\n",
    "\n"
   ]
  },
  {
   "cell_type": "markdown",
   "metadata": {},
   "source": [
    "#### Answers: \n",
    "\n",
    "**2.1:** Fit a simple linear regression model to the training set"
   ]
  },
  {
   "cell_type": "code",
   "execution_count": 17,
   "metadata": {},
   "outputs": [
    {
     "data": {
      "text/html": [
       "<table class=\"simpletable\">\n",
       "<caption>OLS Regression Results</caption>\n",
       "<tr>\n",
       "  <th>Dep. Variable:</th>       <td>Cancer_type</td>   <th>  R-squared:         </th> <td>   0.329</td>\n",
       "</tr>\n",
       "<tr>\n",
       "  <th>Model:</th>                   <td>OLS</td>       <th>  Adj. R-squared:    </th> <td>   0.311</td>\n",
       "</tr>\n",
       "<tr>\n",
       "  <th>Method:</th>             <td>Least Squares</td>  <th>  F-statistic:       </th> <td>   18.61</td>\n",
       "</tr>\n",
       "<tr>\n",
       "  <th>Date:</th>             <td>Wed, 24 Oct 2018</td> <th>  Prob (F-statistic):</th> <td>0.000110</td>\n",
       "</tr>\n",
       "<tr>\n",
       "  <th>Time:</th>                 <td>18:43:01</td>     <th>  Log-Likelihood:    </th> <td> -19.769</td>\n",
       "</tr>\n",
       "<tr>\n",
       "  <th>No. Observations:</th>      <td>    40</td>      <th>  AIC:               </th> <td>   43.54</td>\n",
       "</tr>\n",
       "<tr>\n",
       "  <th>Df Residuals:</th>          <td>    38</td>      <th>  BIC:               </th> <td>   46.92</td>\n",
       "</tr>\n",
       "<tr>\n",
       "  <th>Df Model:</th>              <td>     1</td>      <th>                     </th>     <td> </td>   \n",
       "</tr>\n",
       "<tr>\n",
       "  <th>Covariance Type:</th>      <td>nonrobust</td>    <th>                     </th>     <td> </td>   \n",
       "</tr>\n",
       "</table>\n",
       "<table class=\"simpletable\">\n",
       "<tr>\n",
       "      <td></td>         <th>coef</th>     <th>std err</th>      <th>t</th>      <th>P>|t|</th>  <th>[0.025</th>    <th>0.975]</th>  \n",
       "</tr>\n",
       "<tr>\n",
       "  <th>const</th>     <td>   -0.0587</td> <td>    0.119</td> <td>   -0.492</td> <td> 0.625</td> <td>   -0.300</td> <td>    0.183</td>\n",
       "</tr>\n",
       "<tr>\n",
       "  <th>D29963_at</th> <td>    1.2764</td> <td>    0.296</td> <td>    4.314</td> <td> 0.000</td> <td>    0.677</td> <td>    1.875</td>\n",
       "</tr>\n",
       "</table>\n",
       "<table class=\"simpletable\">\n",
       "<tr>\n",
       "  <th>Omnibus:</th>       <td> 5.833</td> <th>  Durbin-Watson:     </th> <td>   0.838</td>\n",
       "</tr>\n",
       "<tr>\n",
       "  <th>Prob(Omnibus):</th> <td> 0.054</td> <th>  Jarque-Bera (JB):  </th> <td>   5.011</td>\n",
       "</tr>\n",
       "<tr>\n",
       "  <th>Skew:</th>          <td> 0.775</td> <th>  Prob(JB):          </th> <td>  0.0816</td>\n",
       "</tr>\n",
       "<tr>\n",
       "  <th>Kurtosis:</th>      <td> 2.222</td> <th>  Cond. No.          </th> <td>    5.15</td>\n",
       "</tr>\n",
       "</table><br/><br/>Warnings:<br/>[1] Standard Errors assume that the covariance matrix of the errors is correctly specified."
      ],
      "text/plain": [
       "<class 'statsmodels.iolib.summary.Summary'>\n",
       "\"\"\"\n",
       "                            OLS Regression Results                            \n",
       "==============================================================================\n",
       "Dep. Variable:            Cancer_type   R-squared:                       0.329\n",
       "Model:                            OLS   Adj. R-squared:                  0.311\n",
       "Method:                 Least Squares   F-statistic:                     18.61\n",
       "Date:                Wed, 24 Oct 2018   Prob (F-statistic):           0.000110\n",
       "Time:                        18:43:01   Log-Likelihood:                -19.769\n",
       "No. Observations:                  40   AIC:                             43.54\n",
       "Df Residuals:                      38   BIC:                             46.92\n",
       "Df Model:                           1                                         \n",
       "Covariance Type:            nonrobust                                         \n",
       "==============================================================================\n",
       "                 coef    std err          t      P>|t|      [0.025      0.975]\n",
       "------------------------------------------------------------------------------\n",
       "const         -0.0587      0.119     -0.492      0.625      -0.300       0.183\n",
       "D29963_at      1.2764      0.296      4.314      0.000       0.677       1.875\n",
       "==============================================================================\n",
       "Omnibus:                        5.833   Durbin-Watson:                   0.838\n",
       "Prob(Omnibus):                  0.054   Jarque-Bera (JB):                5.011\n",
       "Skew:                           0.775   Prob(JB):                       0.0816\n",
       "Kurtosis:                       2.222   Cond. No.                         5.15\n",
       "==============================================================================\n",
       "\n",
       "Warnings:\n",
       "[1] Standard Errors assume that the covariance matrix of the errors is correctly specified.\n",
       "\"\"\""
      ]
     },
     "execution_count": 17,
     "metadata": {},
     "output_type": "execute_result"
    }
   ],
   "source": [
    "# your code here\n",
    "ols = OLS(y_train, sm.add_constant(x_train[[\"D29963_at\"]])).fit()\n",
    "ols.summary()"
   ]
  },
  {
   "cell_type": "markdown",
   "metadata": {},
   "source": [
    "*your answer here*\n",
    "\n",
    "OLS model may have predictions outside [0,1], which are not valid probabilities."
   ]
  },
  {
   "cell_type": "markdown",
   "metadata": {},
   "source": [
    "**2.2:** The fitted linear regression model can be converted to a classification model..."
   ]
  },
  {
   "cell_type": "code",
   "execution_count": 18,
   "metadata": {},
   "outputs": [
    {
     "name": "stdout",
     "output_type": "stream",
     "text": [
      "OLS prediction accuracy score in train: 0.800\n",
      "OLS prediction accuracy score in test: 0.758\n"
     ]
    }
   ],
   "source": [
    "# your code here\n",
    "y_train_ols = ols.predict(sm.add_constant(x_train[[\"D29963_at\"]]))\n",
    "y_test_ols = ols.predict(sm.add_constant(x_test[[\"D29963_at\"]]))\n",
    "\n",
    "print(\"OLS prediction accuracy score in train: %0.3f\" % accuracy_score(y_train, y_train_ols>0.5))\n",
    "print(\"OLS prediction accuracy score in test: %0.3f\" % accuracy_score(y_test, y_test_ols>0.5))"
   ]
  },
  {
   "cell_type": "markdown",
   "metadata": {},
   "source": [
    "**2.3:** Next, fit a simple logistic regression model to the training set..."
   ]
  },
  {
   "cell_type": "code",
   "execution_count": 19,
   "metadata": {},
   "outputs": [
    {
     "name": "stdout",
     "output_type": "stream",
     "text": [
      "Logistic Regression prediction accuracy score in train: 0.800\n",
      "Logistic Regression prediction accuracy score in test: 0.758\n"
     ]
    }
   ],
   "source": [
    "# your code here\n",
    "logit = LogisticRegression(C=100000).fit(x_train[['D29963_at']], y_train)\n",
    "\n",
    "print(\"Logistic Regression prediction accuracy score in train: %0.3f\" % logit.score(x_train[['D29963_at']], y_train))\n",
    "print(\"Logistic Regression prediction accuracy score in test: %0.3f\" % logit.score(x_test[['D29963_at']], y_test))"
   ]
  },
  {
   "cell_type": "markdown",
   "metadata": {},
   "source": [
    "*your answer here*\n",
    "\n",
    "The accuracies in OLS and Logistic regressions are exactly the same. It seems that D29963_at is a powerful feature that seperates AML and ALL points reasonably well, which makes linear regression and logistic regression about equally good. \n"
   ]
  },
  {
   "cell_type": "markdown",
   "metadata": {},
   "source": [
    "**2.4:** Create a figure with 4 items ..."
   ]
  },
  {
   "cell_type": "code",
   "execution_count": 20,
   "metadata": {},
   "outputs": [
    {
     "data": {
      "text/plain": [
       "Text(0.5,0,'D29963_at')"
      ]
     },
     "execution_count": 20,
     "metadata": {},
     "output_type": "execute_result"
    },
    {
     "data": {
      "image/png": "[encoded data removed]",
      "text/plain": [
       "<Figure size 432x288 with 1 Axes>"
      ]
     },
     "metadata": {},
     "output_type": "display_data"
    }
   ],
   "source": [
    "# your code here\n",
    "plt.scatter(x_test[[\"D29963_at\"]], y_test_ols, label=\"OLS\", alpha=0.5)\n",
    "plt.scatter(x_test[[\"D29963_at\"]], logit.predict_proba(x_test[[\"D29963_at\"]])[:,1], label=\"Logistic\", alpha=0.5)\n",
    "plt.scatter(x_test[[\"D29963_at\"]], y_test, label=\"Cancer_type\")\n",
    "plt.axhline(y=0.5)\n",
    "plt.legend()\n",
    "plt.title(\"Training Set\")\n",
    "plt.ylabel(\"Labels\")\n",
    "plt.xlabel(\"D29963_at\")"
   ]
  },
  {
   "cell_type": "markdown",
   "metadata": {},
   "source": [
    "*your answer here*\n",
    "\n",
    "The overall performance is similar but OLS has the prediction outside of [0, 1], which makes logistic regression better.\n"
   ]
  },
  {
   "cell_type": "markdown",
   "metadata": {},
   "source": [
    "<div class='exercise'> <b> Question 3 [30pts]: Multiple Logistic Regression </b> </div>\n",
    "\n",
    "\n",
    "**3.1** Next, fit a multiple logistic regression model with all the gene predictors from the data set.  How does the classification accuracy of this model compare with the models fitted in question 2 with a single gene (on both the training and test sets)?  \n",
    "\n",
    "\n",
    "**3.2** How many of the coefficients estimated by this multiple logistic regression in the previous part are significantly different from zero at a *significance level of 5%*? Use the same value of C=100000 as before.\n",
    "\n",
    "**Hint:** To answer this question, use *bootstrapping* with 1000 boostrap samples/iterations.  \n",
    "\n",
    "**3.3** Use the `visualize_prob` function provided below (or any other visualization) to visualize the probabilties predicted by the fitted multiple logistic regression model on both the training and test data sets. The function creates a visualization that places the data points on a vertical line based on the predicted probabilities, with the different cancer classes shown in different colors, and with the 0.5 threshold highlighted using a dotted horizontal line. Is there a difference in the spread of probabilities in the training and test plots? Are there data points for which the predicted probability is close to 0.5? If so, what can you say about these points?\n",
    "\n",
    "**3.4** Open question: Comment on the classification accuracy of the train and test sets. Given the results above how would you assess the generalization capacity of your trained model?  What other tests or approaches would you suggest to better guard against the false sense of security on the accuracy of the model as a whole. \n"
   ]
  },
  {
   "cell_type": "code",
   "execution_count": 21,
   "metadata": {},
   "outputs": [],
   "source": [
    "# --------  visualize_prob\n",
    "# A function to visualize the probabilities predicted by a Logistic Regression model\n",
    "# Input: \n",
    "#      model (Logistic regression model)\n",
    "#      x (n x d array of predictors in training data)\n",
    "#      y (n x 1 array of response variable vals in training data: 0 or 1)\n",
    "#      ax (an axis object to generate the plot)\n",
    "\n",
    "def visualize_prob(model, x, y, ax):\n",
    "    # Use the model to predict probabilities for x\n",
    "    y_pred = model.predict_proba(x)\n",
    "    \n",
    "    # Separate the predictions on the label 1 and label 0 points\n",
    "    ypos = y_pred[y==1]\n",
    "    yneg = y_pred[y==0]\n",
    "    \n",
    "    # Count the number of label 1 and label 0 points\n",
    "    npos = ypos.shape[0]\n",
    "    nneg = yneg.shape[0]\n",
    "    \n",
    "    # Plot the probabilities on a vertical line at x = 0, \n",
    "    # with the positive points in blue and negative points in red\n",
    "    pos_handle = ax.plot(np.zeros((npos,1)), ypos[:,1], 'bo', label = 'Cancer Type 1')\n",
    "    neg_handle = ax.plot(np.zeros((nneg,1)), yneg[:,1], 'ro', label = 'Cancer Type 0')\n",
    "\n",
    "    # Line to mark prob 0.5\n",
    "    ax.axhline(y = 0.5, color = 'k', linestyle = '--')\n",
    "    \n",
    "    # Add y-label and legend, do not display x-axis, set y-axis limit\n",
    "    ax.set_ylabel('Probability of AML class')\n",
    "    ax.legend(loc = 'best')\n",
    "    ax.get_xaxis().set_visible(False)\n",
    "    ax.set_ylim([0,1])"
   ]
  },
  {
   "cell_type": "markdown",
   "metadata": {},
   "source": [
    "#### Answers:\n",
    "\n",
    "**3.1:** Next, fit a multiple logistic regression model with all the gene predictors..."
   ]
  },
  {
   "cell_type": "code",
   "execution_count": 22,
   "metadata": {},
   "outputs": [
    {
     "name": "stdout",
     "output_type": "stream",
     "text": [
      "Logistic Regression with all predictors prediction accuracy score in train: 1.000\n",
      "Logistic Regression with all predictors prediction accuracy score in test: 1.000\n"
     ]
    }
   ],
   "source": [
    "# your code here\n",
    "logit_multi = LogisticRegression(C=100000).fit(x_train, y_train)\n",
    "\n",
    "print(\"Logistic Regression with all predictors prediction accuracy score in train: %0.3f\" % logit_multi.score(x_train, y_train))\n",
    "print(\"Logistic Regression with all predictors prediction accuracy score in test: %0.3f\" % logit_multi.score(x_test, y_test))\n"
   ]
  },
  {
   "cell_type": "markdown",
   "metadata": {},
   "source": [
    "*your answer here*\n",
    "\n",
    "Accuracy in both training (1.00) and test (1.00) improves considerably with all genes vs a single gene."
   ]
  },
  {
   "cell_type": "markdown",
   "metadata": {},
   "source": [
    "**3.2:** How many of the coefficients estimated by this multiple logistic regression..."
   ]
  },
  {
   "cell_type": "code",
   "execution_count": 23,
   "metadata": {},
   "outputs": [
    {
     "name": "stdout",
     "output_type": "stream",
     "text": [
      "(7129,)\n",
      "(40, 7129)\n"
     ]
    }
   ],
   "source": [
    "b_genes = logit_multi.coef_[0]\n",
    "print(b_genes.shape)\n",
    "print(x_train.shape)"
   ]
  },
  {
   "cell_type": "code",
   "execution_count": 24,
   "metadata": {},
   "outputs": [],
   "source": [
    "# Bootstrapping with 1000 boostrap samples\n",
    "iterations = 1000\n",
    "\n",
    "b_genes_boot = np.zeros((x_train.shape[1], iterations))\n",
    "\n",
    "for i in range(iterations):\n",
    "    # sample with replacement from x_train\n",
    "    boot_rows = np.random.choice(range(x_train.shape[0]), size=x_train.shape[0], replace=True)    \n",
    "    X_train_boot = x_train.values[boot_rows]\n",
    "    y_train_boot = y_train.values[boot_rows]\n",
    "\n",
    "    # fit\n",
    "    logit_multi_boot = LogisticRegression(C=100000).fit(X_train_boot, y_train_boot)\n",
    "    b_genes_boot[:,i] = logit_multi_boot.coef_\n"
   ]
  },
  {
   "cell_type": "code",
   "execution_count": 25,
   "metadata": {},
   "outputs": [
    {
     "name": "stdout",
     "output_type": "stream",
     "text": [
      "Significant coefficents at 5 precentage level: 1898 out of 7129 features.\n"
     ]
    }
   ],
   "source": [
    "# Confidence Intervals\n",
    "b_genes_ci_upper = np.percentile(b_genes_boot, 97.5, axis=1)\n",
    "b_genes_ci_lower = np.percentile(b_genes_boot, 2.5, axis=1)\n",
    "\n",
    "sig_b = 0\n",
    "\n",
    "# if CI contains 0, then insignificant\n",
    "for i in range(x_train.shape[1]):\n",
    "    if b_genes_ci_upper[i] < 0 or b_genes_ci_lower[i] > 0:\n",
    "        sig_b += 1\n",
    "\n",
    "print(\"Significant coefficents at 5 precentage level: %i out of %i features.\" % (sig_b, x_train.shape[1]))"
   ]
  },
  {
   "cell_type": "markdown",
   "metadata": {},
   "source": [
    "*your answer here*\n",
    "\n",
    "1898 out of 7129 features are significant at 5% significant level."
   ]
  },
  {
   "cell_type": "markdown",
   "metadata": {},
   "source": [
    "**3.3:** Use the visualize_prob function provided below ..."
   ]
  },
  {
   "cell_type": "code",
   "execution_count": 26,
   "metadata": {},
   "outputs": [
    {
     "data": {
      "text/plain": [
       "Text(0.5,1,'Test Set')"
      ]
     },
     "execution_count": 26,
     "metadata": {},
     "output_type": "execute_result"
    },
    {
     "data": {
      "image/png": "[encoded data removed]",
      "text/plain": [
       "<Figure size 864x360 with 2 Axes>"
      ]
     },
     "metadata": {},
     "output_type": "display_data"
    }
   ],
   "source": [
    "\"\"\" Plot classification model \"\"\"\n",
    "# your code here\n",
    "f, (ax1, ax2) = plt.subplots(1, 2, figsize=(12, 5))\n",
    "visualize_prob(\n",
    "    model=logit_multi,\n",
    "    x=x_train,\n",
    "    y=y_train,\n",
    "    ax=ax1\n",
    ")\n",
    "ax1.set_title(\"Train Set\")\n",
    "\n",
    "visualize_prob(\n",
    "    model=logit_multi,\n",
    "    x=x_test,\n",
    "    y=y_test,\n",
    "    ax=ax2\n",
    ")\n",
    "ax2.set_title(\"Test Set\")\n"
   ]
  },
  {
   "cell_type": "markdown",
   "metadata": {},
   "source": [
    "*your answer here*\n",
    "\n",
    "- Yes, there is a difference in the spread of probabilities in the training and test plots.\n",
    "- In training set, the probabilities are either 1 or 0. In test set, several predicted probabilities fall closer to 0.5.\n",
    "- For these points close to 0.5, we are unsure if we should predict it as 0 or 1."
   ]
  },
  {
   "cell_type": "markdown",
   "metadata": {},
   "source": [
    "**3.4:** Open question: Comment on the classification accuracy...\n"
   ]
  },
  {
   "cell_type": "markdown",
   "metadata": {},
   "source": [
    "*your answer here* \n",
    "\n",
    "The classification accuracies on the train and test sets are both 100%, however, there are too many features that are not statistically significant in the logistic regression model. To assess the generailization capacity of the trained model, we should test it on more unseen data. We could also use cross-valication to guard against the false sense of security on the accuracy of the model."
   ]
  },
  {
   "cell_type": "markdown",
   "metadata": {},
   "source": [
    "<div class='exercise'><b> Question 4 [20 pts]: PCR: Principal Components Regression </b></div>\n",
    "\n",
    "High dimensional problems can lead to problematic behavior in model estimation (and make prediction on a test set worse), thus we often want to try to reduce the dimensionality of our problems. A reasonable approach to reduce the dimensionality of the data is to use PCA and fit a logistic regression model on the smallest set of principal components that explain at least 90% of the variance in the predictors.\n",
    "\n",
    "**4.1:** Fit two separate Logistic Regression models using principal components as the predictors: (1) with the number of components you selected from problem 1.5 and (2) with the number of components that explain at least 90% of the variability in the feature set. How do the classification accuracy values on both the training and tests sets compare with the models fit in question 3?   \n",
    "\n",
    "**4.2:** Use the code provided in question 3 (or your choice of visualization) to visualize the probabilities predicted by the fitted models in the previous part on both the training and test sets. How does the spread of probabilities in these plots compare to those for the model in question 3.2? If the lower dimensional representation yields comparable predictive power, what advantage does the lower dimensional representation provide?\n"
   ]
  },
  {
   "cell_type": "markdown",
   "metadata": {},
   "source": [
    "#### Answers:\n",
    "\n",
    "**4.1:** Fit two separate Logistic Regression models..."
   ]
  },
  {
   "cell_type": "code",
   "execution_count": 27,
   "metadata": {},
   "outputs": [
    {
     "name": "stdout",
     "output_type": "stream",
     "text": [
      "The number of compoennts that explain at least 80% of total variance: 22\n",
      "The number of compoennts that explain at least 90% of total variance: 29\n"
     ]
    }
   ],
   "source": [
    "# your code here\n",
    "print(\"The number of compoennts that explain at least 80%% of total variance: %i\" % pca_80)\n",
    "print(\"The number of compoennts that explain at least 90%% of total variance: %i\" % pca_90)"
   ]
  },
  {
   "cell_type": "code",
   "execution_count": 28,
   "metadata": {},
   "outputs": [
    {
     "name": "stdout",
     "output_type": "stream",
     "text": [
      "Logistic Regression with 22 PCA components prediction accuracy score in train: 1.000\n",
      "Logistic Regression with 22 PCA components prediction accuracy score in test: 0.909\n"
     ]
    }
   ],
   "source": [
    "x_train_pca_80 = pca.transform(x_train)[:, :pca_80]\n",
    "x_test_pca_80 = pca.transform(x_test)[:, :pca_80]\n",
    "\n",
    "logit_pca_80 = LogisticRegression(C=100000).fit(x_train_pca_80, y_train)\n",
    "\n",
    "print(\"Logistic Regression with 22 PCA components prediction accuracy score in train: %0.3f\" % logit_pca_80.score(x_train_pca_80, y_train))\n",
    "print(\"Logistic Regression with 22 PCA components prediction accuracy score in test: %0.3f\" % logit_pca_80.score(x_test_pca_80, y_test))"
   ]
  },
  {
   "cell_type": "code",
   "execution_count": 29,
   "metadata": {},
   "outputs": [
    {
     "name": "stdout",
     "output_type": "stream",
     "text": [
      "Logistic Regression with 29 PCA components prediction accuracy score in train: 1.000\n",
      "Logistic Regression with 29 PCA components prediction accuracy score in test: 0.970\n"
     ]
    }
   ],
   "source": [
    "x_train_pca_90 = pca.transform(x_train)[:, :pca_90]\n",
    "x_test_pca_90 = pca.transform(x_test)[:, :pca_90]\n",
    "\n",
    "logit_pca_90 = LogisticRegression(C=100000).fit(x_train_pca_90, y_train)\n",
    "\n",
    "print(\"Logistic Regression with 29 PCA components prediction accuracy score in train: %0.3f\" % logit_pca_90.score(x_train_pca_90, y_train))\n",
    "print(\"Logistic Regression with 29 PCA components prediction accuracy score in test: %0.3f\" % logit_pca_90.score(x_test_pca_90, y_test))"
   ]
  },
  {
   "cell_type": "markdown",
   "metadata": {},
   "source": [
    "*your answer here*\n",
    "\n",
    "- All three logistic regression models have 100% classification accuracies in training set. \n",
    "- The model with all features has the highest classification accuray in test set of 100%, followed by the model with 29 PCA components of 97%, and finally the model with 22 PCA components (the model I chose) of 91%. "
   ]
  },
  {
   "cell_type": "markdown",
   "metadata": {},
   "source": [
    "**4.2:** Use the code provided in question 3..."
   ]
  },
  {
   "cell_type": "code",
   "execution_count": 30,
   "metadata": {},
   "outputs": [
    {
     "data": {
      "text/plain": [
       "Text(0.5,0.98,'Logistic model with PCA components that can explain >80% total varaibility')"
      ]
     },
     "execution_count": 30,
     "metadata": {},
     "output_type": "execute_result"
    },
    {
     "data": {
      "image/png": "[encoded data removed]",
      "text/plain": [
       "<Figure size 864x360 with 2 Axes>"
      ]
     },
     "metadata": {},
     "output_type": "display_data"
    }
   ],
   "source": [
    "# your code here\n",
    "f, (ax1, ax2) = plt.subplots(1, 2, figsize=(12, 5))\n",
    "visualize_prob(\n",
    "    model=logit_pca_80,\n",
    "    x=x_train_pca_80,\n",
    "    y=y_train,\n",
    "    ax=ax1\n",
    ")\n",
    "ax1.set_title(\"Train Set\")\n",
    "\n",
    "visualize_prob(\n",
    "    model=logit_pca_80,\n",
    "    x=x_test_pca_80,\n",
    "    y=y_test,\n",
    "    ax=ax2\n",
    ")\n",
    "ax2.set_title(\"Test Set\")\n",
    "f.suptitle('Logistic model with PCA components that can explain >80% total varaibility', fontsize=16)"
   ]
  },
  {
   "cell_type": "code",
   "execution_count": 31,
   "metadata": {},
   "outputs": [
    {
     "data": {
      "text/plain": [
       "Text(0.5,0.98,'Logistic model with PCA components that can explain >90% total varaibility')"
      ]
     },
     "execution_count": 31,
     "metadata": {},
     "output_type": "execute_result"
    },
    {
     "data": {
      "image/png": "[encoded data removed]",
      "text/plain": [
       "<Figure size 864x360 with 2 Axes>"
      ]
     },
     "metadata": {},
     "output_type": "display_data"
    }
   ],
   "source": [
    "# your code here\n",
    "f, (ax1, ax2) = plt.subplots(1, 2, figsize=(12, 5))\n",
    "visualize_prob(\n",
    "    model=logit_pca_90,\n",
    "    x=x_train_pca_90,\n",
    "    y=y_train,\n",
    "    ax=ax1\n",
    ")\n",
    "ax1.set_title(\"Train Set\")\n",
    "\n",
    "visualize_prob(\n",
    "    model=logit_pca_90,\n",
    "    x=x_test_pca_90,\n",
    "    y=y_test,\n",
    "    ax=ax2\n",
    ")\n",
    "ax2.set_title(\"Test Set\")\n",
    "f.suptitle('Logistic model with PCA components that can explain >90% total varaibility', fontsize=16)"
   ]
  },
  {
   "cell_type": "markdown",
   "metadata": {},
   "source": [
    "*your answer here*\n",
    "\n",
    "- In training set, all three models have 100% classification accuray. \n",
    "- In test set, the logistic model with PCA components yields comparable predictive power, even though there are several points are misclassified. \n",
    "- We risk finding spurious relationships between predictors and response with the logistic model with all predictors.\n",
    "- With PCA, we hope to find some lower dimensional representation of our predictors that can retain predictive power and hopefully less vulnerable to overfitting.\n"
   ]
  }
 ],
 "metadata": {
  "anaconda-cloud": {},
  "kernelspec": {
   "display_name": "Python 3",
   "language": "python",
   "name": "python3"
  },
  "language_info": {
   "codemirror_mode": {
    "name": "ipython",
    "version": 3
   },
   "file_extension": ".py",
   "mimetype": "text/x-python",
   "name": "python",
   "nbconvert_exporter": "python",
   "pygments_lexer": "ipython3",
   "version": "3.6.5"
  }
 },
 "nbformat": 4,
 "nbformat_minor": 2
}
